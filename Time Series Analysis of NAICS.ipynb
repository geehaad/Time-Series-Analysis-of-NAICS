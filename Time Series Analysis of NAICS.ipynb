{
 "cells": [
  {
   "cell_type": "markdown",
   "metadata": {},
   "source": [
    "# Time Series Analysis of NAICS"
   ]
  },
  {
   "cell_type": "markdown",
   "metadata": {},
   "source": [
    "<img src=\"img.svg.png\">"
   ]
  },
  {
   "cell_type": "markdown",
   "metadata": {},
   "source": [
    "The North American Industry Classification System or NAICS is a classification of business establishments by type of economic activity. \n",
    "It is used by government and business in Canada, Mexico, and the United States of America.\n",
    "\n",
    "It has largely replaced the older Standard Industrial Classification (SIC) system, except in some government agencies, such as the U.S. Securities and Exchange Commission (SEC).\n",
    "\n",
    "An establishment is typically a single physical location, though administratively distinct operations at a single location may be treated as distinct establishments. \n",
    "Each establishment is classified to an industry according to the primary business activity taking place there. NAICS does not offer guidance on the classification of enterprises (companies) which are composed of multiple establishments.\n",
    "\n",
    "NAICS is designed to provide common definitions of the\n",
    "industrial structure of the three countries and a common statistical framework to facilitate the\n",
    "analysis of the three economies."
   ]
  },
  {
   "cell_type": "markdown",
   "metadata": {},
   "source": [
    "## The data provided contains:"
   ]
  },
  {
   "cell_type": "markdown",
   "metadata": {},
   "source": [
    "<b>a- Raw data:</b><br>\n",
    "15 CSV files beginning with RTRA.<br>\n",
    "These files contain employment data by industry at different levels of aggregation; 2-digit NAICS, 3-digit NAICS, and 4-digit\n",
    "NAICS. <br>\n",
    "<ul>\n",
    "Columns mean as follows:\n",
    "    <li>\n",
    " SYEAR: Survey Year\n",
    "        </li>\n",
    "    <li>\n",
    " SMTH: Survey Month\n",
    "        </li>\n",
    "    <li>\n",
    " NAICS: Industry name and associated NAICS code in the bracket\n",
    "        </li>\n",
    "    <li>\n",
    " _EMPLOYMENT_: Employment\n",
    "        </li>\n",
    "</ul>"
   ]
  },
  {
   "cell_type": "markdown",
   "metadata": {},
   "source": [
    "<b>b- LMO Detailed Industries by NAICS:</b><br> \n",
    "An excel file for mapping the RTRA data to the desired data. <br>\n",
    "The first column of this file has a list of 59 industries that are frequently used.<br>\n",
    "The second column has their NAICS definitions. <br>\n",
    "Using these NAICS definitions and RTRA data, you would create a monthly employment data series from 1997 to 2018 for these 59\n",
    "industries.\n"
   ]
  },
  {
   "cell_type": "markdown",
   "metadata": {},
   "source": [
    "<b>c- Data Output Template:</b><br>\n",
    "An excel file with an empty column for employment. "
   ]
  },
  {
   "cell_type": "markdown",
   "metadata": {},
   "source": [
    "## Task"
   ]
  },
  {
   "cell_type": "markdown",
   "metadata": {},
   "source": [
    "In this task, we need to understand how the NAICS works as a hierarchical structure for defining industries at different levels of aggregation. <br>\n",
    "\n",
    "<b>For example:</b> <br>\n",
    "In NAICS 2017 – Statistics Canada.pdf (see page 22), a 2-digit NAICS industry (e.g., 23 - Construction) is\n",
    "composed of some 3-digit NAICS industries (236 - Construction of buildings, 237 - Heavy\n",
    "and civil engineering construction, and a few more 3-digit NAICS industries).<br>\n",
    "\n",
    "Similarly, a 3-digit NAICS industry (e.g., 236 - Construction of buildings), is composed of\n",
    "4-digit NAICS industries (2361 - Residential building construction and 2362 -Non-residential building construction)."
   ]
  },
  {
   "cell_type": "markdown",
   "metadata": {},
   "source": [
    "##  Get, and prepare the Dataset:"
   ]
  },
  {
   "cell_type": "markdown",
   "metadata": {},
   "source": [
    "### a- Loading and exploring the LMO_Detailed_Industries_by_NAICS data:"
   ]
  },
  {
   "cell_type": "code",
   "execution_count": 40,
   "metadata": {},
   "outputs": [],
   "source": [
    "# import libraries\n",
    "%matplotlib inline\n",
    "import pandas as pd\n",
    "import numpy as np\n",
    "import seaborn as snb\n",
    "import matplotlib.pyplot as plt"
   ]
  },
  {
   "cell_type": "code",
   "execution_count": 41,
   "metadata": {},
   "outputs": [
    {
     "data": {
      "text/html": [
       "<div>\n",
       "<style scoped>\n",
       "    .dataframe tbody tr th:only-of-type {\n",
       "        vertical-align: middle;\n",
       "    }\n",
       "\n",
       "    .dataframe tbody tr th {\n",
       "        vertical-align: top;\n",
       "    }\n",
       "\n",
       "    .dataframe thead th {\n",
       "        text-align: right;\n",
       "    }\n",
       "</style>\n",
       "<table border=\"1\" class=\"dataframe\">\n",
       "  <thead>\n",
       "    <tr style=\"text-align: right;\">\n",
       "      <th></th>\n",
       "      <th>LMO_Detailed_Industry</th>\n",
       "      <th>NAICS</th>\n",
       "    </tr>\n",
       "  </thead>\n",
       "  <tbody>\n",
       "    <tr>\n",
       "      <th>0</th>\n",
       "      <td>Farms</td>\n",
       "      <td>111 &amp; 112</td>\n",
       "    </tr>\n",
       "    <tr>\n",
       "      <th>1</th>\n",
       "      <td>Fishing, hunting and trapping</td>\n",
       "      <td>114</td>\n",
       "    </tr>\n",
       "    <tr>\n",
       "      <th>2</th>\n",
       "      <td>Forestry and logging</td>\n",
       "      <td>113</td>\n",
       "    </tr>\n",
       "    <tr>\n",
       "      <th>3</th>\n",
       "      <td>Support activities for agriculture and forestry</td>\n",
       "      <td>115</td>\n",
       "    </tr>\n",
       "    <tr>\n",
       "      <th>4</th>\n",
       "      <td>Oil and gas extraction</td>\n",
       "      <td>211</td>\n",
       "    </tr>\n",
       "  </tbody>\n",
       "</table>\n",
       "</div>"
      ],
      "text/plain": [
       "                             LMO_Detailed_Industry      NAICS\n",
       "0                                            Farms  111 & 112\n",
       "1                    Fishing, hunting and trapping        114\n",
       "2                             Forestry and logging        113\n",
       "3  Support activities for agriculture and forestry        115\n",
       "4                           Oil and gas extraction        211"
      ]
     },
     "execution_count": 41,
     "metadata": {},
     "output_type": "execute_result"
    }
   ],
   "source": [
    "# Loading LMO_Detailed_Industries_by_NAICS data\n",
    "LMO_Detailed_Industries_df = pd.read_excel(\"Data\\LMO_Detailed_Industries_by_NAICS.xlsx\")\n",
    "LMO_Detailed_Industries_df.head()"
   ]
  },
  {
   "cell_type": "code",
   "execution_count": 42,
   "metadata": {},
   "outputs": [],
   "source": [
    "# Create a list of NAICS for industries\n",
    "list_NAICS = LMO_Detailed_Industries_df['NAICS'].astype(str).str.replace(' &', ',').str.split(', ')"
   ]
  },
  {
   "cell_type": "code",
   "execution_count": 43,
   "metadata": {},
   "outputs": [
    {
     "data": {
      "text/plain": [
       "0    [111, 112]\n",
       "1         [114]\n",
       "2         [113]\n",
       "3         [115]\n",
       "4         [211]\n",
       "Name: NAICS, dtype: object"
      ]
     },
     "execution_count": 43,
     "metadata": {},
     "output_type": "execute_result"
    }
   ],
   "source": [
    "list_NAICS.head()"
   ]
  },
  {
   "cell_type": "code",
   "execution_count": 44,
   "metadata": {},
   "outputs": [],
   "source": [
    "LMO_Detailed_Industries_df[\"list_NAICS\"] = list_NAICS"
   ]
  },
  {
   "cell_type": "code",
   "execution_count": 45,
   "metadata": {},
   "outputs": [
    {
     "data": {
      "text/html": [
       "<div>\n",
       "<style scoped>\n",
       "    .dataframe tbody tr th:only-of-type {\n",
       "        vertical-align: middle;\n",
       "    }\n",
       "\n",
       "    .dataframe tbody tr th {\n",
       "        vertical-align: top;\n",
       "    }\n",
       "\n",
       "    .dataframe thead th {\n",
       "        text-align: right;\n",
       "    }\n",
       "</style>\n",
       "<table border=\"1\" class=\"dataframe\">\n",
       "  <thead>\n",
       "    <tr style=\"text-align: right;\">\n",
       "      <th></th>\n",
       "      <th>LMO_Detailed_Industry</th>\n",
       "      <th>NAICS</th>\n",
       "      <th>list_NAICS</th>\n",
       "    </tr>\n",
       "  </thead>\n",
       "  <tbody>\n",
       "    <tr>\n",
       "      <th>0</th>\n",
       "      <td>Farms</td>\n",
       "      <td>111 &amp; 112</td>\n",
       "      <td>[111, 112]</td>\n",
       "    </tr>\n",
       "    <tr>\n",
       "      <th>1</th>\n",
       "      <td>Fishing, hunting and trapping</td>\n",
       "      <td>114</td>\n",
       "      <td>[114]</td>\n",
       "    </tr>\n",
       "    <tr>\n",
       "      <th>2</th>\n",
       "      <td>Forestry and logging</td>\n",
       "      <td>113</td>\n",
       "      <td>[113]</td>\n",
       "    </tr>\n",
       "    <tr>\n",
       "      <th>3</th>\n",
       "      <td>Support activities for agriculture and forestry</td>\n",
       "      <td>115</td>\n",
       "      <td>[115]</td>\n",
       "    </tr>\n",
       "    <tr>\n",
       "      <th>4</th>\n",
       "      <td>Oil and gas extraction</td>\n",
       "      <td>211</td>\n",
       "      <td>[211]</td>\n",
       "    </tr>\n",
       "  </tbody>\n",
       "</table>\n",
       "</div>"
      ],
      "text/plain": [
       "                             LMO_Detailed_Industry      NAICS  list_NAICS\n",
       "0                                            Farms  111 & 112  [111, 112]\n",
       "1                    Fishing, hunting and trapping        114       [114]\n",
       "2                             Forestry and logging        113       [113]\n",
       "3  Support activities for agriculture and forestry        115       [115]\n",
       "4                           Oil and gas extraction        211       [211]"
      ]
     },
     "execution_count": 45,
     "metadata": {},
     "output_type": "execute_result"
    }
   ],
   "source": [
    "LMO_Detailed_Industries_df.head()"
   ]
  },
  {
   "cell_type": "markdown",
   "metadata": {},
   "source": [
    "### b- Loading and exploring the 2-Digit NAICS Industries data:"
   ]
  },
  {
   "cell_type": "code",
   "execution_count": 46,
   "metadata": {},
   "outputs": [],
   "source": [
    "# All the csv files have the same columns"
   ]
  },
  {
   "cell_type": "code",
   "execution_count": 47,
   "metadata": {},
   "outputs": [],
   "source": [
    "# Get the data of 2digit NAICS industries\n",
    "df_2_NAICS = pd.concat(map(pd.read_csv, ['Data/RTRA_Employ_2NAICS_00_05.csv', 'Data/RTRA_Employ_2NAICS_06_10.csv',\n",
    "                                         'Data/RTRA_Employ_2NAICS_11_15.csv', 'Data/RTRA_Employ_2NAICS_16_20.csv',\n",
    "                                          'Data/RTRA_Employ_2NAICS_97_99.csv']))"
   ]
  },
  {
   "cell_type": "code",
   "execution_count": 48,
   "metadata": {},
   "outputs": [
    {
     "data": {
      "text/html": [
       "<div>\n",
       "<style scoped>\n",
       "    .dataframe tbody tr th:only-of-type {\n",
       "        vertical-align: middle;\n",
       "    }\n",
       "\n",
       "    .dataframe tbody tr th {\n",
       "        vertical-align: top;\n",
       "    }\n",
       "\n",
       "    .dataframe thead th {\n",
       "        text-align: right;\n",
       "    }\n",
       "</style>\n",
       "<table border=\"1\" class=\"dataframe\">\n",
       "  <thead>\n",
       "    <tr style=\"text-align: right;\">\n",
       "      <th></th>\n",
       "      <th>SYEAR</th>\n",
       "      <th>SMTH</th>\n",
       "      <th>NAICS</th>\n",
       "      <th>_EMPLOYMENT_</th>\n",
       "    </tr>\n",
       "  </thead>\n",
       "  <tbody>\n",
       "    <tr>\n",
       "      <th>0</th>\n",
       "      <td>2000</td>\n",
       "      <td>1</td>\n",
       "      <td>Accommodation and food services [72]</td>\n",
       "      <td>148000</td>\n",
       "    </tr>\n",
       "    <tr>\n",
       "      <th>1</th>\n",
       "      <td>2000</td>\n",
       "      <td>1</td>\n",
       "      <td>Administrative and support, waste management a...</td>\n",
       "      <td>59250</td>\n",
       "    </tr>\n",
       "    <tr>\n",
       "      <th>2</th>\n",
       "      <td>2000</td>\n",
       "      <td>1</td>\n",
       "      <td>Agriculture, forestry, fishing and hunting [11]</td>\n",
       "      <td>61750</td>\n",
       "    </tr>\n",
       "    <tr>\n",
       "      <th>3</th>\n",
       "      <td>2000</td>\n",
       "      <td>1</td>\n",
       "      <td>Arts, entertainment and recreation [71]</td>\n",
       "      <td>39500</td>\n",
       "    </tr>\n",
       "    <tr>\n",
       "      <th>4</th>\n",
       "      <td>2000</td>\n",
       "      <td>1</td>\n",
       "      <td>Construction [23]</td>\n",
       "      <td>106250</td>\n",
       "    </tr>\n",
       "  </tbody>\n",
       "</table>\n",
       "</div>"
      ],
      "text/plain": [
       "   SYEAR  SMTH                                              NAICS  \\\n",
       "0   2000     1               Accommodation and food services [72]   \n",
       "1   2000     1  Administrative and support, waste management a...   \n",
       "2   2000     1    Agriculture, forestry, fishing and hunting [11]   \n",
       "3   2000     1            Arts, entertainment and recreation [71]   \n",
       "4   2000     1                                  Construction [23]   \n",
       "\n",
       "   _EMPLOYMENT_  \n",
       "0        148000  \n",
       "1         59250  \n",
       "2         61750  \n",
       "3         39500  \n",
       "4        106250  "
      ]
     },
     "execution_count": 48,
     "metadata": {},
     "output_type": "execute_result"
    }
   ],
   "source": [
    "df_2_NAICS.head()"
   ]
  },
  {
   "cell_type": "code",
   "execution_count": 49,
   "metadata": {},
   "outputs": [
    {
     "data": {
      "text/plain": [
       "(5472, 4)"
      ]
     },
     "execution_count": 49,
     "metadata": {},
     "output_type": "execute_result"
    }
   ],
   "source": [
    "df_2_NAICS.shape"
   ]
  },
  {
   "cell_type": "markdown",
   "metadata": {},
   "source": [
    "### Separate the Industry description and NAICS code "
   ]
  },
  {
   "cell_type": "code",
   "execution_count": 50,
   "metadata": {},
   "outputs": [],
   "source": [
    "# Separate the Industry description and NAICS code \n",
    "df_2_NAICS['NAICS']= pd.DataFrame(df_2_NAICS['NAICS'].str.split('[').tolist(), columns=[\"NAICS\", \"CODE\"])\n",
    "df_2_NAICS['CODE']= pd.DataFrame(df1['CODE'].str.replace(']', ''))"
   ]
  },
  {
   "cell_type": "code",
   "execution_count": 51,
   "metadata": {},
   "outputs": [
    {
     "data": {
      "text/html": [
       "<div>\n",
       "<style scoped>\n",
       "    .dataframe tbody tr th:only-of-type {\n",
       "        vertical-align: middle;\n",
       "    }\n",
       "\n",
       "    .dataframe tbody tr th {\n",
       "        vertical-align: top;\n",
       "    }\n",
       "\n",
       "    .dataframe thead th {\n",
       "        text-align: right;\n",
       "    }\n",
       "</style>\n",
       "<table border=\"1\" class=\"dataframe\">\n",
       "  <thead>\n",
       "    <tr style=\"text-align: right;\">\n",
       "      <th></th>\n",
       "      <th>SYEAR</th>\n",
       "      <th>SMTH</th>\n",
       "      <th>NAICS</th>\n",
       "      <th>_EMPLOYMENT_</th>\n",
       "      <th>CODE</th>\n",
       "    </tr>\n",
       "  </thead>\n",
       "  <tbody>\n",
       "    <tr>\n",
       "      <th>0</th>\n",
       "      <td>2000</td>\n",
       "      <td>1</td>\n",
       "      <td>Accommodation and food services</td>\n",
       "      <td>148000</td>\n",
       "      <td>72</td>\n",
       "    </tr>\n",
       "    <tr>\n",
       "      <th>1</th>\n",
       "      <td>2000</td>\n",
       "      <td>1</td>\n",
       "      <td>Administrative and support, waste management a...</td>\n",
       "      <td>59250</td>\n",
       "      <td>56</td>\n",
       "    </tr>\n",
       "    <tr>\n",
       "      <th>2</th>\n",
       "      <td>2000</td>\n",
       "      <td>1</td>\n",
       "      <td>Agriculture, forestry, fishing and hunting</td>\n",
       "      <td>61750</td>\n",
       "      <td>11</td>\n",
       "    </tr>\n",
       "    <tr>\n",
       "      <th>3</th>\n",
       "      <td>2000</td>\n",
       "      <td>1</td>\n",
       "      <td>Arts, entertainment and recreation</td>\n",
       "      <td>39500</td>\n",
       "      <td>71</td>\n",
       "    </tr>\n",
       "    <tr>\n",
       "      <th>4</th>\n",
       "      <td>2000</td>\n",
       "      <td>1</td>\n",
       "      <td>Construction</td>\n",
       "      <td>106250</td>\n",
       "      <td>23</td>\n",
       "    </tr>\n",
       "    <tr>\n",
       "      <th>...</th>\n",
       "      <td>...</td>\n",
       "      <td>...</td>\n",
       "      <td>...</td>\n",
       "      <td>...</td>\n",
       "      <td>...</td>\n",
       "    </tr>\n",
       "    <tr>\n",
       "      <th>715</th>\n",
       "      <td>1999</td>\n",
       "      <td>12</td>\n",
       "      <td>Real estate, rental and leasing</td>\n",
       "      <td>37000</td>\n",
       "      <td>53</td>\n",
       "    </tr>\n",
       "    <tr>\n",
       "      <th>716</th>\n",
       "      <td>1999</td>\n",
       "      <td>12</td>\n",
       "      <td>Retail trade</td>\n",
       "      <td>230750</td>\n",
       "      <td>44-45</td>\n",
       "    </tr>\n",
       "    <tr>\n",
       "      <th>717</th>\n",
       "      <td>1999</td>\n",
       "      <td>12</td>\n",
       "      <td>Transportation and warehousing</td>\n",
       "      <td>117500</td>\n",
       "      <td>48-49</td>\n",
       "    </tr>\n",
       "    <tr>\n",
       "      <th>718</th>\n",
       "      <td>1999</td>\n",
       "      <td>12</td>\n",
       "      <td>Utilities</td>\n",
       "      <td>10250</td>\n",
       "      <td>22</td>\n",
       "    </tr>\n",
       "    <tr>\n",
       "      <th>719</th>\n",
       "      <td>1999</td>\n",
       "      <td>12</td>\n",
       "      <td>Wholesale trade</td>\n",
       "      <td>74000</td>\n",
       "      <td>41</td>\n",
       "    </tr>\n",
       "  </tbody>\n",
       "</table>\n",
       "<p>5472 rows × 5 columns</p>\n",
       "</div>"
      ],
      "text/plain": [
       "     SYEAR  SMTH                                              NAICS  \\\n",
       "0     2000     1                   Accommodation and food services    \n",
       "1     2000     1  Administrative and support, waste management a...   \n",
       "2     2000     1        Agriculture, forestry, fishing and hunting    \n",
       "3     2000     1                Arts, entertainment and recreation    \n",
       "4     2000     1                                      Construction    \n",
       "..     ...   ...                                                ...   \n",
       "715   1999    12                   Real estate, rental and leasing    \n",
       "716   1999    12                                     Retail trade     \n",
       "717   1999    12                    Transportation and warehousing    \n",
       "718   1999    12                                         Utilities    \n",
       "719   1999    12                                  Wholesale trade     \n",
       "\n",
       "     _EMPLOYMENT_   CODE  \n",
       "0          148000     72  \n",
       "1           59250     56  \n",
       "2           61750     11  \n",
       "3           39500     71  \n",
       "4          106250     23  \n",
       "..            ...    ...  \n",
       "715         37000     53  \n",
       "716        230750  44-45  \n",
       "717        117500  48-49  \n",
       "718         10250     22  \n",
       "719         74000     41  \n",
       "\n",
       "[5472 rows x 5 columns]"
      ]
     },
     "execution_count": 51,
     "metadata": {},
     "output_type": "execute_result"
    }
   ],
   "source": [
    "df_2_NAICS"
   ]
  },
  {
   "cell_type": "code",
   "execution_count": 70,
   "metadata": {},
   "outputs": [],
   "source": [
    "# Function to get the 'LMO_Detailed_Industry' values for a NAICS code in RTRA files\n",
    "def add_lmo_industry(df):\n",
    "    lmo_df = LMO_Detailed_Industries_df.apply(lambda y: y[\"LMO_Detailed_Industry\"] \n",
    "                                                if (df['CODE'] in y['list_NAICS']) else np.nan, axis=1)\n",
    "    lmo_df = lmo_df.dropna(how='all', axis=0)\n",
    "    if lmo_df.empty:\n",
    "        lmo_df = np.nan\n",
    "    else:\n",
    "        lmo_df = lmo_df.to_string(index=False)\n",
    "    return lmo_df"
   ]
  },
  {
   "cell_type": "code",
   "execution_count": 71,
   "metadata": {},
   "outputs": [
    {
     "data": {
      "text/html": [
       "<div>\n",
       "<style scoped>\n",
       "    .dataframe tbody tr th:only-of-type {\n",
       "        vertical-align: middle;\n",
       "    }\n",
       "\n",
       "    .dataframe tbody tr th {\n",
       "        vertical-align: top;\n",
       "    }\n",
       "\n",
       "    .dataframe thead th {\n",
       "        text-align: right;\n",
       "    }\n",
       "</style>\n",
       "<table border=\"1\" class=\"dataframe\">\n",
       "  <thead>\n",
       "    <tr style=\"text-align: right;\">\n",
       "      <th></th>\n",
       "      <th>SYEAR</th>\n",
       "      <th>SMTH</th>\n",
       "      <th>NAICS</th>\n",
       "      <th>_EMPLOYMENT_</th>\n",
       "      <th>CODE</th>\n",
       "      <th>LMO_Detailed_Industry</th>\n",
       "    </tr>\n",
       "  </thead>\n",
       "  <tbody>\n",
       "    <tr>\n",
       "      <th>0</th>\n",
       "      <td>2000</td>\n",
       "      <td>1</td>\n",
       "      <td>Accommodation and food services</td>\n",
       "      <td>148000</td>\n",
       "      <td>72</td>\n",
       "      <td>NaN</td>\n",
       "    </tr>\n",
       "    <tr>\n",
       "      <th>1</th>\n",
       "      <td>2000</td>\n",
       "      <td>1</td>\n",
       "      <td>Administrative and support, waste management a...</td>\n",
       "      <td>59250</td>\n",
       "      <td>56</td>\n",
       "      <td>Business, building and other support services</td>\n",
       "    </tr>\n",
       "    <tr>\n",
       "      <th>2</th>\n",
       "      <td>2000</td>\n",
       "      <td>1</td>\n",
       "      <td>Agriculture, forestry, fishing and hunting</td>\n",
       "      <td>61750</td>\n",
       "      <td>11</td>\n",
       "      <td>NaN</td>\n",
       "    </tr>\n",
       "    <tr>\n",
       "      <th>3</th>\n",
       "      <td>2000</td>\n",
       "      <td>1</td>\n",
       "      <td>Arts, entertainment and recreation</td>\n",
       "      <td>39500</td>\n",
       "      <td>71</td>\n",
       "      <td>NaN</td>\n",
       "    </tr>\n",
       "    <tr>\n",
       "      <th>4</th>\n",
       "      <td>2000</td>\n",
       "      <td>1</td>\n",
       "      <td>Construction</td>\n",
       "      <td>106250</td>\n",
       "      <td>23</td>\n",
       "      <td>Construction</td>\n",
       "    </tr>\n",
       "    <tr>\n",
       "      <th>5</th>\n",
       "      <td>2000</td>\n",
       "      <td>1</td>\n",
       "      <td>Educational services</td>\n",
       "      <td>143500</td>\n",
       "      <td>61</td>\n",
       "      <td>NaN</td>\n",
       "    </tr>\n",
       "    <tr>\n",
       "      <th>6</th>\n",
       "      <td>2000</td>\n",
       "      <td>1</td>\n",
       "      <td>Finance and insurance</td>\n",
       "      <td>78500</td>\n",
       "      <td>52</td>\n",
       "      <td>NaN</td>\n",
       "    </tr>\n",
       "    <tr>\n",
       "      <th>7</th>\n",
       "      <td>2000</td>\n",
       "      <td>1</td>\n",
       "      <td>Health care and social assistance</td>\n",
       "      <td>200000</td>\n",
       "      <td>62</td>\n",
       "      <td>NaN</td>\n",
       "    </tr>\n",
       "    <tr>\n",
       "      <th>8</th>\n",
       "      <td>2000</td>\n",
       "      <td>1</td>\n",
       "      <td>Information and cultural industries</td>\n",
       "      <td>47000</td>\n",
       "      <td>51</td>\n",
       "      <td>NaN</td>\n",
       "    </tr>\n",
       "    <tr>\n",
       "      <th>9</th>\n",
       "      <td>2000</td>\n",
       "      <td>1</td>\n",
       "      <td>Management of companies and enterprises</td>\n",
       "      <td>1000</td>\n",
       "      <td>55</td>\n",
       "      <td>Business, building and other support services</td>\n",
       "    </tr>\n",
       "  </tbody>\n",
       "</table>\n",
       "</div>"
      ],
      "text/plain": [
       "   SYEAR  SMTH                                              NAICS  \\\n",
       "0   2000     1                   Accommodation and food services    \n",
       "1   2000     1  Administrative and support, waste management a...   \n",
       "2   2000     1        Agriculture, forestry, fishing and hunting    \n",
       "3   2000     1                Arts, entertainment and recreation    \n",
       "4   2000     1                                      Construction    \n",
       "5   2000     1                              Educational services    \n",
       "6   2000     1                             Finance and insurance    \n",
       "7   2000     1                 Health care and social assistance    \n",
       "8   2000     1               Information and cultural industries    \n",
       "9   2000     1           Management of companies and enterprises    \n",
       "\n",
       "   _EMPLOYMENT_ CODE                           LMO_Detailed_Industry  \n",
       "0        148000   72                                             NaN  \n",
       "1         59250   56   Business, building and other support services  \n",
       "2         61750   11                                             NaN  \n",
       "3         39500   71                                             NaN  \n",
       "4        106250   23                                    Construction  \n",
       "5        143500   61                                             NaN  \n",
       "6         78500   52                                             NaN  \n",
       "7        200000   62                                             NaN  \n",
       "8         47000   51                                             NaN  \n",
       "9          1000   55   Business, building and other support services  "
      ]
     },
     "execution_count": 71,
     "metadata": {},
     "output_type": "execute_result"
    }
   ],
   "source": [
    "# Get the LMO_Detailed_Industry for the 2digit NAICS RTRA file\n",
    "df_2_NAICS[\"LMO_Detailed_Industry\"] = df_2_NAICS.apply(add_lmo_industry, axis=1)\n",
    "df_2_NAICS.head()"
   ]
  },
  {
   "cell_type": "code",
   "execution_count": null,
   "metadata": {},
   "outputs": [],
   "source": []
  }
 ],
 "metadata": {
  "kernelspec": {
   "display_name": "Python 3",
   "language": "python",
   "name": "python3"
  },
  "language_info": {
   "codemirror_mode": {
    "name": "ipython",
    "version": 3
   },
   "file_extension": ".py",
   "mimetype": "text/x-python",
   "name": "python",
   "nbconvert_exporter": "python",
   "pygments_lexer": "ipython3",
   "version": "3.8.5"
  }
 },
 "nbformat": 4,
 "nbformat_minor": 4
}
