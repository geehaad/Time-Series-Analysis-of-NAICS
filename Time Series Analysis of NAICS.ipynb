{
 "cells": [
  {
   "cell_type": "markdown",
   "metadata": {},
   "source": [
    "# Time Series Analysis of NAICS"
   ]
  },
  {
   "cell_type": "markdown",
   "metadata": {},
   "source": [
    "<img src=\"img.svg.png\">"
   ]
  },
  {
   "cell_type": "markdown",
   "metadata": {},
   "source": [
    "The North American Industry Classification System or NAICS is a classification of business establishments by type of economic activity. \n",
    "It is used by government and business in Canada, Mexico, and the United States of America.\n",
    "\n",
    "It has largely replaced the older Standard Industrial Classification (SIC) system, except in some government agencies, such as the U.S. Securities and Exchange Commission (SEC).\n",
    "\n",
    "An establishment is typically a single physical location, though administratively distinct operations at a single location may be treated as distinct establishments. \n",
    "Each establishment is classified to an industry according to the primary business activity taking place there. NAICS does not offer guidance on the classification of enterprises (companies) which are composed of multiple establishments.\n",
    "\n",
    "NAICS is designed to provide common definitions of the\n",
    "industrial structure of the three countries and a common statistical framework to facilitate the\n",
    "analysis of the three economies."
   ]
  },
  {
   "cell_type": "markdown",
   "metadata": {},
   "source": [
    "## The data provided contains:"
   ]
  },
  {
   "cell_type": "markdown",
   "metadata": {},
   "source": [
    "<b>a- Raw data:</b><br>\n",
    "15 CSV files beginning with RTRA.<br>\n",
    "These files contain employment data by industry at different levels of aggregation; 2-digit NAICS, 3-digit NAICS, and 4-digit\n",
    "NAICS. <br>\n",
    "<ul>\n",
    "Columns mean as follows:\n",
    "    <li>\n",
    " SYEAR: Survey Year\n",
    "        </li>\n",
    "    <li>\n",
    " SMTH: Survey Month\n",
    "        </li>\n",
    "    <li>\n",
    " NAICS: Industry name and associated NAICS code in the bracket\n",
    "        </li>\n",
    "    <li>\n",
    " _EMPLOYMENT_: Employment\n",
    "        </li>\n",
    "</ul>"
   ]
  },
  {
   "cell_type": "markdown",
   "metadata": {},
   "source": [
    "<b>b- LMO Detailed Industries by NAICS:</b><br> \n",
    "An excel file for mapping the RTRA data to the desired data. <br>\n",
    "The first column of this file has a list of 59 industries that are frequently used.<br>\n",
    "The second column has their NAICS definitions. <br>\n",
    "Using these NAICS definitions and RTRA data, you would create a monthly employment data series from 1997 to 2018 for these 59\n",
    "industries.\n"
   ]
  },
  {
   "cell_type": "markdown",
   "metadata": {},
   "source": [
    "<b>c- Data Output Template:</b><br>\n",
    "An excel file with an empty column for employment. "
   ]
  },
  {
   "cell_type": "markdown",
   "metadata": {},
   "source": [
    "## Task"
   ]
  },
  {
   "cell_type": "markdown",
   "metadata": {},
   "source": [
    "In this task, we need to understand how the NAICS works as a hierarchical structure for defining industries at different levels of aggregation. <br>\n",
    "\n",
    "<b>For example:</b> <br>\n",
    "In NAICS 2017 – Statistics Canada.pdf (see page 22), a 2-digit NAICS industry (e.g., 23 - Construction) is\n",
    "composed of some 3-digit NAICS industries (236 - Construction of buildings, 237 - Heavy\n",
    "and civil engineering construction, and a few more 3-digit NAICS industries).<br>\n",
    "\n",
    "Similarly, a 3-digit NAICS industry (e.g., 236 - Construction of buildings), is composed of\n",
    "4-digit NAICS industries (2361 - Residential building construction and 2362 -Non-residential building construction)."
   ]
  },
  {
   "cell_type": "markdown",
   "metadata": {},
   "source": [
    "##  Get, and prepare the Dataset:"
   ]
  },
  {
   "cell_type": "markdown",
   "metadata": {},
   "source": [
    "### a- Loading and exploring the LMO_Detailed_Industries_by_NAICS data:"
   ]
  },
  {
   "cell_type": "code",
   "execution_count": 164,
   "metadata": {},
   "outputs": [],
   "source": [
    "# import libraries\n",
    "%matplotlib inline\n",
    "import pandas as pd\n",
    "import numpy as np\n",
    "import seaborn as sns\n",
    "import matplotlib.pyplot as plt"
   ]
  },
  {
   "cell_type": "code",
   "execution_count": 165,
   "metadata": {},
   "outputs": [
    {
     "data": {
      "text/html": [
       "<div>\n",
       "<style scoped>\n",
       "    .dataframe tbody tr th:only-of-type {\n",
       "        vertical-align: middle;\n",
       "    }\n",
       "\n",
       "    .dataframe tbody tr th {\n",
       "        vertical-align: top;\n",
       "    }\n",
       "\n",
       "    .dataframe thead th {\n",
       "        text-align: right;\n",
       "    }\n",
       "</style>\n",
       "<table border=\"1\" class=\"dataframe\">\n",
       "  <thead>\n",
       "    <tr style=\"text-align: right;\">\n",
       "      <th></th>\n",
       "      <th>LMO_Detailed_Industry</th>\n",
       "      <th>NAICS</th>\n",
       "    </tr>\n",
       "  </thead>\n",
       "  <tbody>\n",
       "    <tr>\n",
       "      <th>0</th>\n",
       "      <td>Farms</td>\n",
       "      <td>111 &amp; 112</td>\n",
       "    </tr>\n",
       "    <tr>\n",
       "      <th>1</th>\n",
       "      <td>Fishing, hunting and trapping</td>\n",
       "      <td>114</td>\n",
       "    </tr>\n",
       "    <tr>\n",
       "      <th>2</th>\n",
       "      <td>Forestry and logging</td>\n",
       "      <td>113</td>\n",
       "    </tr>\n",
       "    <tr>\n",
       "      <th>3</th>\n",
       "      <td>Support activities for agriculture and forestry</td>\n",
       "      <td>115</td>\n",
       "    </tr>\n",
       "    <tr>\n",
       "      <th>4</th>\n",
       "      <td>Oil and gas extraction</td>\n",
       "      <td>211</td>\n",
       "    </tr>\n",
       "  </tbody>\n",
       "</table>\n",
       "</div>"
      ],
      "text/plain": [
       "                             LMO_Detailed_Industry      NAICS\n",
       "0                                            Farms  111 & 112\n",
       "1                    Fishing, hunting and trapping        114\n",
       "2                             Forestry and logging        113\n",
       "3  Support activities for agriculture and forestry        115\n",
       "4                           Oil and gas extraction        211"
      ]
     },
     "execution_count": 165,
     "metadata": {},
     "output_type": "execute_result"
    }
   ],
   "source": [
    "# Loading LMO_Detailed_Industries_by_NAICS data\n",
    "LMO_Detailed_Industries_df = pd.read_excel(\"Data\\LMO_Detailed_Industries_by_NAICS.xlsx\")\n",
    "LMO_Detailed_Industries_df.head()"
   ]
  },
  {
   "cell_type": "markdown",
   "metadata": {},
   "source": [
    "NAICS column needs some cleaning. we need to replace the & by a comma."
   ]
  },
  {
   "cell_type": "code",
   "execution_count": 166,
   "metadata": {},
   "outputs": [],
   "source": [
    "# Create a list of NAICS for industries\n",
    "LMO_Detailed_Industries_df['NAICS'] = LMO_Detailed_Industries_df['NAICS'].replace({'&':','}, regex=True)"
   ]
  },
  {
   "cell_type": "code",
   "execution_count": 167,
   "metadata": {},
   "outputs": [
    {
     "data": {
      "text/html": [
       "<div>\n",
       "<style scoped>\n",
       "    .dataframe tbody tr th:only-of-type {\n",
       "        vertical-align: middle;\n",
       "    }\n",
       "\n",
       "    .dataframe tbody tr th {\n",
       "        vertical-align: top;\n",
       "    }\n",
       "\n",
       "    .dataframe thead th {\n",
       "        text-align: right;\n",
       "    }\n",
       "</style>\n",
       "<table border=\"1\" class=\"dataframe\">\n",
       "  <thead>\n",
       "    <tr style=\"text-align: right;\">\n",
       "      <th></th>\n",
       "      <th>LMO_Detailed_Industry</th>\n",
       "      <th>NAICS</th>\n",
       "    </tr>\n",
       "  </thead>\n",
       "  <tbody>\n",
       "    <tr>\n",
       "      <th>0</th>\n",
       "      <td>Farms</td>\n",
       "      <td>111 , 112</td>\n",
       "    </tr>\n",
       "    <tr>\n",
       "      <th>1</th>\n",
       "      <td>Fishing, hunting and trapping</td>\n",
       "      <td>114</td>\n",
       "    </tr>\n",
       "    <tr>\n",
       "      <th>2</th>\n",
       "      <td>Forestry and logging</td>\n",
       "      <td>113</td>\n",
       "    </tr>\n",
       "    <tr>\n",
       "      <th>3</th>\n",
       "      <td>Support activities for agriculture and forestry</td>\n",
       "      <td>115</td>\n",
       "    </tr>\n",
       "    <tr>\n",
       "      <th>4</th>\n",
       "      <td>Oil and gas extraction</td>\n",
       "      <td>211</td>\n",
       "    </tr>\n",
       "    <tr>\n",
       "      <th>5</th>\n",
       "      <td>Support activities for mining and oil and gas ...</td>\n",
       "      <td>213</td>\n",
       "    </tr>\n",
       "    <tr>\n",
       "      <th>6</th>\n",
       "      <td>Mining</td>\n",
       "      <td>212</td>\n",
       "    </tr>\n",
       "    <tr>\n",
       "      <th>7</th>\n",
       "      <td>Utilities</td>\n",
       "      <td>22</td>\n",
       "    </tr>\n",
       "    <tr>\n",
       "      <th>8</th>\n",
       "      <td>Construction</td>\n",
       "      <td>23</td>\n",
       "    </tr>\n",
       "    <tr>\n",
       "      <th>9</th>\n",
       "      <td>Food, beverage and tobacco manufacturing</td>\n",
       "      <td>311 , 312</td>\n",
       "    </tr>\n",
       "  </tbody>\n",
       "</table>\n",
       "</div>"
      ],
      "text/plain": [
       "                               LMO_Detailed_Industry      NAICS\n",
       "0                                              Farms  111 , 112\n",
       "1                      Fishing, hunting and trapping        114\n",
       "2                               Forestry and logging        113\n",
       "3    Support activities for agriculture and forestry        115\n",
       "4                             Oil and gas extraction        211\n",
       "5  Support activities for mining and oil and gas ...        213\n",
       "6                                             Mining        212\n",
       "7                                          Utilities         22\n",
       "8                                       Construction         23\n",
       "9           Food, beverage and tobacco manufacturing  311 , 312"
      ]
     },
     "execution_count": 167,
     "metadata": {},
     "output_type": "execute_result"
    }
   ],
   "source": [
    "LMO_Detailed_Industries_df.head(10)"
   ]
  },
  {
   "cell_type": "markdown",
   "metadata": {},
   "source": [
    "We are going now to separate the multiple code. "
   ]
  },
  {
   "cell_type": "code",
   "execution_count": 168,
   "metadata": {},
   "outputs": [],
   "source": [
    "LMO_Detailed_Industries_df=LMO_Detailed_Industries_df[['NAICS','LMO_Detailed_Industry']]\n",
    "\n",
    "LMO_Detailed_Industries_df1=LMO_Detailed_Industries_df[~LMO_Detailed_Industries_df['NAICS'].str.contains(',', na=False)]\n",
    "LMO_Detailed_Industries_df2=LMO_Detailed_Industries_df[LMO_Detailed_Industries_df['NAICS'].str.contains(',', na=False)]\n",
    "\n",
    "\n",
    "LMO_Detailed_Industries_df2=LMO_Detailed_Industries_df2.assign(NAICS=LMO_Detailed_Industries_df2['NAICS'].str.split(',')).explode('NAICS')\n"
   ]
  },
  {
   "cell_type": "code",
   "execution_count": 169,
   "metadata": {},
   "outputs": [],
   "source": [
    "LMO_Detailed_Industries_df=LMO_Detailed_Industries_df1.append(LMO_Detailed_Industries_df2, ignore_index=True)\n",
    "LMO_Detailed_Industries_df.columns=['CODE','LMO_Detailed_Industry']"
   ]
  },
  {
   "cell_type": "code",
   "execution_count": 170,
   "metadata": {},
   "outputs": [
    {
     "data": {
      "text/html": [
       "<div>\n",
       "<style scoped>\n",
       "    .dataframe tbody tr th:only-of-type {\n",
       "        vertical-align: middle;\n",
       "    }\n",
       "\n",
       "    .dataframe tbody tr th {\n",
       "        vertical-align: top;\n",
       "    }\n",
       "\n",
       "    .dataframe thead th {\n",
       "        text-align: right;\n",
       "    }\n",
       "</style>\n",
       "<table border=\"1\" class=\"dataframe\">\n",
       "  <thead>\n",
       "    <tr style=\"text-align: right;\">\n",
       "      <th></th>\n",
       "      <th>CODE</th>\n",
       "      <th>LMO_Detailed_Industry</th>\n",
       "    </tr>\n",
       "  </thead>\n",
       "  <tbody>\n",
       "    <tr>\n",
       "      <th>0</th>\n",
       "      <td>114</td>\n",
       "      <td>Fishing, hunting and trapping</td>\n",
       "    </tr>\n",
       "    <tr>\n",
       "      <th>1</th>\n",
       "      <td>113</td>\n",
       "      <td>Forestry and logging</td>\n",
       "    </tr>\n",
       "    <tr>\n",
       "      <th>2</th>\n",
       "      <td>115</td>\n",
       "      <td>Support activities for agriculture and forestry</td>\n",
       "    </tr>\n",
       "    <tr>\n",
       "      <th>3</th>\n",
       "      <td>211</td>\n",
       "      <td>Oil and gas extraction</td>\n",
       "    </tr>\n",
       "    <tr>\n",
       "      <th>4</th>\n",
       "      <td>213</td>\n",
       "      <td>Support activities for mining and oil and gas ...</td>\n",
       "    </tr>\n",
       "    <tr>\n",
       "      <th>...</th>\n",
       "      <td>...</td>\n",
       "      <td>...</td>\n",
       "    </tr>\n",
       "    <tr>\n",
       "      <th>102</th>\n",
       "      <td>518</td>\n",
       "      <td>Broadcasting, data processing, and information</td>\n",
       "    </tr>\n",
       "    <tr>\n",
       "      <th>103</th>\n",
       "      <td>519</td>\n",
       "      <td>Broadcasting, data processing, and information</td>\n",
       "    </tr>\n",
       "    <tr>\n",
       "      <th>104</th>\n",
       "      <td>913</td>\n",
       "      <td>Local and Indigenous public administration</td>\n",
       "    </tr>\n",
       "    <tr>\n",
       "      <th>105</th>\n",
       "      <td>914</td>\n",
       "      <td>Local and Indigenous public administration</td>\n",
       "    </tr>\n",
       "    <tr>\n",
       "      <th>106</th>\n",
       "      <td>919</td>\n",
       "      <td>Local and Indigenous public administration</td>\n",
       "    </tr>\n",
       "  </tbody>\n",
       "</table>\n",
       "<p>107 rows × 2 columns</p>\n",
       "</div>"
      ],
      "text/plain": [
       "      CODE                              LMO_Detailed_Industry\n",
       "0      114                      Fishing, hunting and trapping\n",
       "1      113                               Forestry and logging\n",
       "2      115    Support activities for agriculture and forestry\n",
       "3      211                             Oil and gas extraction\n",
       "4      213  Support activities for mining and oil and gas ...\n",
       "..     ...                                                ...\n",
       "102   518      Broadcasting, data processing, and information\n",
       "103    519     Broadcasting, data processing, and information\n",
       "104    913         Local and Indigenous public administration\n",
       "105   914          Local and Indigenous public administration\n",
       "106    919         Local and Indigenous public administration\n",
       "\n",
       "[107 rows x 2 columns]"
      ]
     },
     "execution_count": 170,
     "metadata": {},
     "output_type": "execute_result"
    }
   ],
   "source": [
    "LMO_Detailed_Industries_df"
   ]
  },
  {
   "cell_type": "markdown",
   "metadata": {},
   "source": [
    "### b- Loading and exploring the 2-Digit NAICS Industries data:"
   ]
  },
  {
   "cell_type": "code",
   "execution_count": 171,
   "metadata": {},
   "outputs": [],
   "source": [
    "# All the csv files for the same digit have the same columns."
   ]
  },
  {
   "cell_type": "code",
   "execution_count": 172,
   "metadata": {},
   "outputs": [],
   "source": [
    "# Get the data of 2digit NAICS industries\n",
    "df_2_NAICS = pd.concat(map(pd.read_csv, ['Data/RTRA_Employ_2NAICS_00_05.csv', 'Data/RTRA_Employ_2NAICS_06_10.csv',\n",
    "                                         'Data/RTRA_Employ_2NAICS_11_15.csv', 'Data/RTRA_Employ_2NAICS_16_20.csv',\n",
    "                                         'Data/RTRA_Employ_2NAICS_97_99.csv']))"
   ]
  },
  {
   "cell_type": "code",
   "execution_count": 173,
   "metadata": {},
   "outputs": [
    {
     "data": {
      "text/html": [
       "<div>\n",
       "<style scoped>\n",
       "    .dataframe tbody tr th:only-of-type {\n",
       "        vertical-align: middle;\n",
       "    }\n",
       "\n",
       "    .dataframe tbody tr th {\n",
       "        vertical-align: top;\n",
       "    }\n",
       "\n",
       "    .dataframe thead th {\n",
       "        text-align: right;\n",
       "    }\n",
       "</style>\n",
       "<table border=\"1\" class=\"dataframe\">\n",
       "  <thead>\n",
       "    <tr style=\"text-align: right;\">\n",
       "      <th></th>\n",
       "      <th>SYEAR</th>\n",
       "      <th>SMTH</th>\n",
       "      <th>NAICS</th>\n",
       "      <th>_EMPLOYMENT_</th>\n",
       "    </tr>\n",
       "  </thead>\n",
       "  <tbody>\n",
       "    <tr>\n",
       "      <th>0</th>\n",
       "      <td>2000</td>\n",
       "      <td>1</td>\n",
       "      <td>Accommodation and food services [72]</td>\n",
       "      <td>148000</td>\n",
       "    </tr>\n",
       "    <tr>\n",
       "      <th>1</th>\n",
       "      <td>2000</td>\n",
       "      <td>1</td>\n",
       "      <td>Administrative and support, waste management a...</td>\n",
       "      <td>59250</td>\n",
       "    </tr>\n",
       "    <tr>\n",
       "      <th>2</th>\n",
       "      <td>2000</td>\n",
       "      <td>1</td>\n",
       "      <td>Agriculture, forestry, fishing and hunting [11]</td>\n",
       "      <td>61750</td>\n",
       "    </tr>\n",
       "    <tr>\n",
       "      <th>3</th>\n",
       "      <td>2000</td>\n",
       "      <td>1</td>\n",
       "      <td>Arts, entertainment and recreation [71]</td>\n",
       "      <td>39500</td>\n",
       "    </tr>\n",
       "    <tr>\n",
       "      <th>4</th>\n",
       "      <td>2000</td>\n",
       "      <td>1</td>\n",
       "      <td>Construction [23]</td>\n",
       "      <td>106250</td>\n",
       "    </tr>\n",
       "  </tbody>\n",
       "</table>\n",
       "</div>"
      ],
      "text/plain": [
       "   SYEAR  SMTH                                              NAICS  \\\n",
       "0   2000     1               Accommodation and food services [72]   \n",
       "1   2000     1  Administrative and support, waste management a...   \n",
       "2   2000     1    Agriculture, forestry, fishing and hunting [11]   \n",
       "3   2000     1            Arts, entertainment and recreation [71]   \n",
       "4   2000     1                                  Construction [23]   \n",
       "\n",
       "   _EMPLOYMENT_  \n",
       "0        148000  \n",
       "1         59250  \n",
       "2         61750  \n",
       "3         39500  \n",
       "4        106250  "
      ]
     },
     "execution_count": 173,
     "metadata": {},
     "output_type": "execute_result"
    }
   ],
   "source": [
    "df_2_NAICS.head()"
   ]
  },
  {
   "cell_type": "code",
   "execution_count": 174,
   "metadata": {},
   "outputs": [
    {
     "data": {
      "text/html": [
       "<div>\n",
       "<style scoped>\n",
       "    .dataframe tbody tr th:only-of-type {\n",
       "        vertical-align: middle;\n",
       "    }\n",
       "\n",
       "    .dataframe tbody tr th {\n",
       "        vertical-align: top;\n",
       "    }\n",
       "\n",
       "    .dataframe thead th {\n",
       "        text-align: right;\n",
       "    }\n",
       "</style>\n",
       "<table border=\"1\" class=\"dataframe\">\n",
       "  <thead>\n",
       "    <tr style=\"text-align: right;\">\n",
       "      <th></th>\n",
       "      <th>SYEAR</th>\n",
       "      <th>SMTH</th>\n",
       "      <th>NAICS</th>\n",
       "      <th>_EMPLOYMENT_</th>\n",
       "    </tr>\n",
       "  </thead>\n",
       "  <tbody>\n",
       "    <tr>\n",
       "      <th>715</th>\n",
       "      <td>1999</td>\n",
       "      <td>12</td>\n",
       "      <td>Real estate, rental and leasing [53]</td>\n",
       "      <td>37000</td>\n",
       "    </tr>\n",
       "    <tr>\n",
       "      <th>716</th>\n",
       "      <td>1999</td>\n",
       "      <td>12</td>\n",
       "      <td>Retail trade  [44-45]</td>\n",
       "      <td>230750</td>\n",
       "    </tr>\n",
       "    <tr>\n",
       "      <th>717</th>\n",
       "      <td>1999</td>\n",
       "      <td>12</td>\n",
       "      <td>Transportation and warehousing [48-49]</td>\n",
       "      <td>117500</td>\n",
       "    </tr>\n",
       "    <tr>\n",
       "      <th>718</th>\n",
       "      <td>1999</td>\n",
       "      <td>12</td>\n",
       "      <td>Utilities [22]</td>\n",
       "      <td>10250</td>\n",
       "    </tr>\n",
       "    <tr>\n",
       "      <th>719</th>\n",
       "      <td>1999</td>\n",
       "      <td>12</td>\n",
       "      <td>Wholesale trade  [41]</td>\n",
       "      <td>74000</td>\n",
       "    </tr>\n",
       "  </tbody>\n",
       "</table>\n",
       "</div>"
      ],
      "text/plain": [
       "     SYEAR  SMTH                                   NAICS  _EMPLOYMENT_\n",
       "715   1999    12    Real estate, rental and leasing [53]         37000\n",
       "716   1999    12                   Retail trade  [44-45]        230750\n",
       "717   1999    12  Transportation and warehousing [48-49]        117500\n",
       "718   1999    12                          Utilities [22]         10250\n",
       "719   1999    12                   Wholesale trade  [41]         74000"
      ]
     },
     "execution_count": 174,
     "metadata": {},
     "output_type": "execute_result"
    }
   ],
   "source": [
    "df_2_NAICS.tail()"
   ]
  },
  {
   "cell_type": "code",
   "execution_count": 175,
   "metadata": {},
   "outputs": [
    {
     "data": {
      "text/plain": [
       "(5472, 4)"
      ]
     },
     "execution_count": 175,
     "metadata": {},
     "output_type": "execute_result"
    }
   ],
   "source": [
    "df_2_NAICS.shape"
   ]
  },
  {
   "cell_type": "markdown",
   "metadata": {},
   "source": [
    "### Separate the Industry description and NAICS code "
   ]
  },
  {
   "cell_type": "markdown",
   "metadata": {},
   "source": [
    "Separate the code from NAICS into a lower and upper code columns."
   ]
  },
  {
   "cell_type": "code",
   "execution_count": 176,
   "metadata": {},
   "outputs": [],
   "source": [
    "# Separate the Industry description and NAICS code \n",
    "code2 = pd.DataFrame(df_2_NAICS['NAICS'].str.split('[').tolist(), columns=[\"NAICS\",\"CODE\"])\n",
    "code2 = pd.DataFrame(code2['CODE'].str.replace(']', '').str.split('-').tolist(), columns=[\"CODE\", \"Upper_Code\"])"
   ]
  },
  {
   "cell_type": "code",
   "execution_count": 177,
   "metadata": {},
   "outputs": [
    {
     "data": {
      "text/html": [
       "<div>\n",
       "<style scoped>\n",
       "    .dataframe tbody tr th:only-of-type {\n",
       "        vertical-align: middle;\n",
       "    }\n",
       "\n",
       "    .dataframe tbody tr th {\n",
       "        vertical-align: top;\n",
       "    }\n",
       "\n",
       "    .dataframe thead th {\n",
       "        text-align: right;\n",
       "    }\n",
       "</style>\n",
       "<table border=\"1\" class=\"dataframe\">\n",
       "  <thead>\n",
       "    <tr style=\"text-align: right;\">\n",
       "      <th></th>\n",
       "      <th>CODE</th>\n",
       "      <th>Upper_Code</th>\n",
       "    </tr>\n",
       "  </thead>\n",
       "  <tbody>\n",
       "    <tr>\n",
       "      <th>0</th>\n",
       "      <td>72</td>\n",
       "      <td>None</td>\n",
       "    </tr>\n",
       "    <tr>\n",
       "      <th>1</th>\n",
       "      <td>56</td>\n",
       "      <td>None</td>\n",
       "    </tr>\n",
       "    <tr>\n",
       "      <th>2</th>\n",
       "      <td>11</td>\n",
       "      <td>None</td>\n",
       "    </tr>\n",
       "    <tr>\n",
       "      <th>3</th>\n",
       "      <td>71</td>\n",
       "      <td>None</td>\n",
       "    </tr>\n",
       "    <tr>\n",
       "      <th>4</th>\n",
       "      <td>23</td>\n",
       "      <td>None</td>\n",
       "    </tr>\n",
       "    <tr>\n",
       "      <th>...</th>\n",
       "      <td>...</td>\n",
       "      <td>...</td>\n",
       "    </tr>\n",
       "    <tr>\n",
       "      <th>5467</th>\n",
       "      <td>53</td>\n",
       "      <td>None</td>\n",
       "    </tr>\n",
       "    <tr>\n",
       "      <th>5468</th>\n",
       "      <td>44</td>\n",
       "      <td>45</td>\n",
       "    </tr>\n",
       "    <tr>\n",
       "      <th>5469</th>\n",
       "      <td>48</td>\n",
       "      <td>49</td>\n",
       "    </tr>\n",
       "    <tr>\n",
       "      <th>5470</th>\n",
       "      <td>22</td>\n",
       "      <td>None</td>\n",
       "    </tr>\n",
       "    <tr>\n",
       "      <th>5471</th>\n",
       "      <td>41</td>\n",
       "      <td>None</td>\n",
       "    </tr>\n",
       "  </tbody>\n",
       "</table>\n",
       "<p>5472 rows × 2 columns</p>\n",
       "</div>"
      ],
      "text/plain": [
       "     CODE Upper_Code\n",
       "0      72       None\n",
       "1      56       None\n",
       "2      11       None\n",
       "3      71       None\n",
       "4      23       None\n",
       "...   ...        ...\n",
       "5467   53       None\n",
       "5468   44         45\n",
       "5469   48         49\n",
       "5470   22       None\n",
       "5471   41       None\n",
       "\n",
       "[5472 rows x 2 columns]"
      ]
     },
     "execution_count": 177,
     "metadata": {},
     "output_type": "execute_result"
    }
   ],
   "source": [
    "code2"
   ]
  },
  {
   "cell_type": "code",
   "execution_count": 178,
   "metadata": {},
   "outputs": [],
   "source": [
    "df_2_NAICS[\"CODE\"] = code2[\"CODE\"]\n",
    "df_2_NAICS[\"Upper_Code\"] = code2[\"Upper_Code\"]"
   ]
  },
  {
   "cell_type": "code",
   "execution_count": 179,
   "metadata": {},
   "outputs": [
    {
     "data": {
      "text/html": [
       "<div>\n",
       "<style scoped>\n",
       "    .dataframe tbody tr th:only-of-type {\n",
       "        vertical-align: middle;\n",
       "    }\n",
       "\n",
       "    .dataframe tbody tr th {\n",
       "        vertical-align: top;\n",
       "    }\n",
       "\n",
       "    .dataframe thead th {\n",
       "        text-align: right;\n",
       "    }\n",
       "</style>\n",
       "<table border=\"1\" class=\"dataframe\">\n",
       "  <thead>\n",
       "    <tr style=\"text-align: right;\">\n",
       "      <th></th>\n",
       "      <th>SYEAR</th>\n",
       "      <th>SMTH</th>\n",
       "      <th>NAICS</th>\n",
       "      <th>_EMPLOYMENT_</th>\n",
       "      <th>CODE</th>\n",
       "      <th>Upper_Code</th>\n",
       "    </tr>\n",
       "  </thead>\n",
       "  <tbody>\n",
       "    <tr>\n",
       "      <th>0</th>\n",
       "      <td>2000</td>\n",
       "      <td>1</td>\n",
       "      <td>Accommodation and food services [72]</td>\n",
       "      <td>148000</td>\n",
       "      <td>72</td>\n",
       "      <td>None</td>\n",
       "    </tr>\n",
       "    <tr>\n",
       "      <th>1</th>\n",
       "      <td>2000</td>\n",
       "      <td>1</td>\n",
       "      <td>Administrative and support, waste management a...</td>\n",
       "      <td>59250</td>\n",
       "      <td>56</td>\n",
       "      <td>None</td>\n",
       "    </tr>\n",
       "    <tr>\n",
       "      <th>2</th>\n",
       "      <td>2000</td>\n",
       "      <td>1</td>\n",
       "      <td>Agriculture, forestry, fishing and hunting [11]</td>\n",
       "      <td>61750</td>\n",
       "      <td>11</td>\n",
       "      <td>None</td>\n",
       "    </tr>\n",
       "    <tr>\n",
       "      <th>3</th>\n",
       "      <td>2000</td>\n",
       "      <td>1</td>\n",
       "      <td>Arts, entertainment and recreation [71]</td>\n",
       "      <td>39500</td>\n",
       "      <td>71</td>\n",
       "      <td>None</td>\n",
       "    </tr>\n",
       "    <tr>\n",
       "      <th>4</th>\n",
       "      <td>2000</td>\n",
       "      <td>1</td>\n",
       "      <td>Construction [23]</td>\n",
       "      <td>106250</td>\n",
       "      <td>23</td>\n",
       "      <td>None</td>\n",
       "    </tr>\n",
       "    <tr>\n",
       "      <th>...</th>\n",
       "      <td>...</td>\n",
       "      <td>...</td>\n",
       "      <td>...</td>\n",
       "      <td>...</td>\n",
       "      <td>...</td>\n",
       "      <td>...</td>\n",
       "    </tr>\n",
       "    <tr>\n",
       "      <th>715</th>\n",
       "      <td>1999</td>\n",
       "      <td>12</td>\n",
       "      <td>Real estate, rental and leasing [53]</td>\n",
       "      <td>37000</td>\n",
       "      <td>53</td>\n",
       "      <td>None</td>\n",
       "    </tr>\n",
       "    <tr>\n",
       "      <th>716</th>\n",
       "      <td>1999</td>\n",
       "      <td>12</td>\n",
       "      <td>Retail trade  [44-45]</td>\n",
       "      <td>230750</td>\n",
       "      <td>44</td>\n",
       "      <td>45</td>\n",
       "    </tr>\n",
       "    <tr>\n",
       "      <th>717</th>\n",
       "      <td>1999</td>\n",
       "      <td>12</td>\n",
       "      <td>Transportation and warehousing [48-49]</td>\n",
       "      <td>117500</td>\n",
       "      <td>48</td>\n",
       "      <td>49</td>\n",
       "    </tr>\n",
       "    <tr>\n",
       "      <th>718</th>\n",
       "      <td>1999</td>\n",
       "      <td>12</td>\n",
       "      <td>Utilities [22]</td>\n",
       "      <td>10250</td>\n",
       "      <td>22</td>\n",
       "      <td>None</td>\n",
       "    </tr>\n",
       "    <tr>\n",
       "      <th>719</th>\n",
       "      <td>1999</td>\n",
       "      <td>12</td>\n",
       "      <td>Wholesale trade  [41]</td>\n",
       "      <td>74000</td>\n",
       "      <td>41</td>\n",
       "      <td>None</td>\n",
       "    </tr>\n",
       "  </tbody>\n",
       "</table>\n",
       "<p>5472 rows × 6 columns</p>\n",
       "</div>"
      ],
      "text/plain": [
       "     SYEAR  SMTH                                              NAICS  \\\n",
       "0     2000     1               Accommodation and food services [72]   \n",
       "1     2000     1  Administrative and support, waste management a...   \n",
       "2     2000     1    Agriculture, forestry, fishing and hunting [11]   \n",
       "3     2000     1            Arts, entertainment and recreation [71]   \n",
       "4     2000     1                                  Construction [23]   \n",
       "..     ...   ...                                                ...   \n",
       "715   1999    12               Real estate, rental and leasing [53]   \n",
       "716   1999    12                              Retail trade  [44-45]   \n",
       "717   1999    12             Transportation and warehousing [48-49]   \n",
       "718   1999    12                                     Utilities [22]   \n",
       "719   1999    12                              Wholesale trade  [41]   \n",
       "\n",
       "     _EMPLOYMENT_ CODE Upper_Code  \n",
       "0          148000   72       None  \n",
       "1           59250   56       None  \n",
       "2           61750   11       None  \n",
       "3           39500   71       None  \n",
       "4          106250   23       None  \n",
       "..            ...  ...        ...  \n",
       "715         37000   53       None  \n",
       "716        230750   44         45  \n",
       "717        117500   48         49  \n",
       "718         10250   22       None  \n",
       "719         74000   41       None  \n",
       "\n",
       "[5472 rows x 6 columns]"
      ]
     },
     "execution_count": 179,
     "metadata": {},
     "output_type": "execute_result"
    }
   ],
   "source": [
    "df_2_NAICS"
   ]
  },
  {
   "cell_type": "markdown",
   "metadata": {},
   "source": [
    "### c- Loading and exploring the 3-Digit NAICS Industries data:"
   ]
  },
  {
   "cell_type": "code",
   "execution_count": 180,
   "metadata": {},
   "outputs": [],
   "source": [
    "# Get the data of 3digit NAICS industries\n",
    "df_3_NAICS = pd.concat(map(pd.read_csv, ['Data/RTRA_Employ_3NAICS_00_05.csv','Data/RTRA_Employ_3NAICS_06_10.csv', \n",
    "                                         'Data/RTRA_Employ_3NAICS_11_15.csv','Data/RTRA_Employ_3NAICS_16_20.csv',\n",
    "                                         'Data/RTRA_Employ_3NAICS_97_99.csv']))"
   ]
  },
  {
   "cell_type": "code",
   "execution_count": 181,
   "metadata": {},
   "outputs": [
    {
     "data": {
      "text/html": [
       "<div>\n",
       "<style scoped>\n",
       "    .dataframe tbody tr th:only-of-type {\n",
       "        vertical-align: middle;\n",
       "    }\n",
       "\n",
       "    .dataframe tbody tr th {\n",
       "        vertical-align: top;\n",
       "    }\n",
       "\n",
       "    .dataframe thead th {\n",
       "        text-align: right;\n",
       "    }\n",
       "</style>\n",
       "<table border=\"1\" class=\"dataframe\">\n",
       "  <thead>\n",
       "    <tr style=\"text-align: right;\">\n",
       "      <th></th>\n",
       "      <th>SYEAR</th>\n",
       "      <th>SMTH</th>\n",
       "      <th>NAICS</th>\n",
       "      <th>_EMPLOYMENT_</th>\n",
       "    </tr>\n",
       "  </thead>\n",
       "  <tbody>\n",
       "    <tr>\n",
       "      <th>0</th>\n",
       "      <td>2000</td>\n",
       "      <td>1</td>\n",
       "      <td>Aboriginal public administration[914]</td>\n",
       "      <td>500</td>\n",
       "    </tr>\n",
       "    <tr>\n",
       "      <th>1</th>\n",
       "      <td>2000</td>\n",
       "      <td>1</td>\n",
       "      <td>Accommodation services[721]</td>\n",
       "      <td>33750</td>\n",
       "    </tr>\n",
       "    <tr>\n",
       "      <th>2</th>\n",
       "      <td>2000</td>\n",
       "      <td>1</td>\n",
       "      <td>Administrative and support services[561]</td>\n",
       "      <td>55250</td>\n",
       "    </tr>\n",
       "    <tr>\n",
       "      <th>3</th>\n",
       "      <td>2000</td>\n",
       "      <td>1</td>\n",
       "      <td>Air transportation[481]</td>\n",
       "      <td>17500</td>\n",
       "    </tr>\n",
       "    <tr>\n",
       "      <th>4</th>\n",
       "      <td>2000</td>\n",
       "      <td>1</td>\n",
       "      <td>Ambulatory health care services[621]</td>\n",
       "      <td>53000</td>\n",
       "    </tr>\n",
       "    <tr>\n",
       "      <th>...</th>\n",
       "      <td>...</td>\n",
       "      <td>...</td>\n",
       "      <td>...</td>\n",
       "      <td>...</td>\n",
       "    </tr>\n",
       "    <tr>\n",
       "      <th>3703</th>\n",
       "      <td>1999</td>\n",
       "      <td>12</td>\n",
       "      <td>Utilities[221]</td>\n",
       "      <td>10000</td>\n",
       "    </tr>\n",
       "    <tr>\n",
       "      <th>3704</th>\n",
       "      <td>1999</td>\n",
       "      <td>12</td>\n",
       "      <td>Warehousing and storage[493]</td>\n",
       "      <td>4500</td>\n",
       "    </tr>\n",
       "    <tr>\n",
       "      <th>3705</th>\n",
       "      <td>1999</td>\n",
       "      <td>12</td>\n",
       "      <td>Waste management and remediation services[562]</td>\n",
       "      <td>4500</td>\n",
       "    </tr>\n",
       "    <tr>\n",
       "      <th>3706</th>\n",
       "      <td>1999</td>\n",
       "      <td>12</td>\n",
       "      <td>Water transportation[483]</td>\n",
       "      <td>6750</td>\n",
       "    </tr>\n",
       "    <tr>\n",
       "      <th>3707</th>\n",
       "      <td>1999</td>\n",
       "      <td>12</td>\n",
       "      <td>Wood product manufacturing[321]</td>\n",
       "      <td>44250</td>\n",
       "    </tr>\n",
       "  </tbody>\n",
       "</table>\n",
       "<p>28140 rows × 4 columns</p>\n",
       "</div>"
      ],
      "text/plain": [
       "      SYEAR  SMTH                                           NAICS  \\\n",
       "0      2000     1           Aboriginal public administration[914]   \n",
       "1      2000     1                     Accommodation services[721]   \n",
       "2      2000     1        Administrative and support services[561]   \n",
       "3      2000     1                         Air transportation[481]   \n",
       "4      2000     1            Ambulatory health care services[621]   \n",
       "...     ...   ...                                             ...   \n",
       "3703   1999    12                                  Utilities[221]   \n",
       "3704   1999    12                    Warehousing and storage[493]   \n",
       "3705   1999    12  Waste management and remediation services[562]   \n",
       "3706   1999    12                       Water transportation[483]   \n",
       "3707   1999    12                 Wood product manufacturing[321]   \n",
       "\n",
       "      _EMPLOYMENT_  \n",
       "0              500  \n",
       "1            33750  \n",
       "2            55250  \n",
       "3            17500  \n",
       "4            53000  \n",
       "...            ...  \n",
       "3703         10000  \n",
       "3704          4500  \n",
       "3705          4500  \n",
       "3706          6750  \n",
       "3707         44250  \n",
       "\n",
       "[28140 rows x 4 columns]"
      ]
     },
     "execution_count": 181,
     "metadata": {},
     "output_type": "execute_result"
    }
   ],
   "source": [
    "df_3_NAICS"
   ]
  },
  {
   "cell_type": "markdown",
   "metadata": {},
   "source": [
    "### Separate the Industry description and NAICS code "
   ]
  },
  {
   "cell_type": "markdown",
   "metadata": {},
   "source": [
    "Separate the code from NAICS into a lower and upper code columns."
   ]
  },
  {
   "cell_type": "code",
   "execution_count": 182,
   "metadata": {},
   "outputs": [],
   "source": [
    "# Separate the Industry description and NAICS code \n",
    "code3 = pd.DataFrame(df_3_NAICS['NAICS'].str.split('[').tolist(), columns=[\"NAICS\",\"CODE\"])\n",
    "code3 = pd.DataFrame(code3['CODE'].str.replace(']', ''))"
   ]
  },
  {
   "cell_type": "code",
   "execution_count": 183,
   "metadata": {},
   "outputs": [],
   "source": [
    "df_3_NAICS[\"CODE\"] = code3[\"CODE\"]\n",
    "df_3_NAICS[\"Upper_Code\"] = 0"
   ]
  },
  {
   "cell_type": "code",
   "execution_count": 184,
   "metadata": {},
   "outputs": [
    {
     "data": {
      "text/html": [
       "<div>\n",
       "<style scoped>\n",
       "    .dataframe tbody tr th:only-of-type {\n",
       "        vertical-align: middle;\n",
       "    }\n",
       "\n",
       "    .dataframe tbody tr th {\n",
       "        vertical-align: top;\n",
       "    }\n",
       "\n",
       "    .dataframe thead th {\n",
       "        text-align: right;\n",
       "    }\n",
       "</style>\n",
       "<table border=\"1\" class=\"dataframe\">\n",
       "  <thead>\n",
       "    <tr style=\"text-align: right;\">\n",
       "      <th></th>\n",
       "      <th>SYEAR</th>\n",
       "      <th>SMTH</th>\n",
       "      <th>NAICS</th>\n",
       "      <th>_EMPLOYMENT_</th>\n",
       "      <th>CODE</th>\n",
       "      <th>Upper_Code</th>\n",
       "    </tr>\n",
       "  </thead>\n",
       "  <tbody>\n",
       "    <tr>\n",
       "      <th>0</th>\n",
       "      <td>2000</td>\n",
       "      <td>1</td>\n",
       "      <td>Aboriginal public administration[914]</td>\n",
       "      <td>500</td>\n",
       "      <td>914</td>\n",
       "      <td>0</td>\n",
       "    </tr>\n",
       "    <tr>\n",
       "      <th>1</th>\n",
       "      <td>2000</td>\n",
       "      <td>1</td>\n",
       "      <td>Accommodation services[721]</td>\n",
       "      <td>33750</td>\n",
       "      <td>721</td>\n",
       "      <td>0</td>\n",
       "    </tr>\n",
       "    <tr>\n",
       "      <th>2</th>\n",
       "      <td>2000</td>\n",
       "      <td>1</td>\n",
       "      <td>Administrative and support services[561]</td>\n",
       "      <td>55250</td>\n",
       "      <td>561</td>\n",
       "      <td>0</td>\n",
       "    </tr>\n",
       "    <tr>\n",
       "      <th>3</th>\n",
       "      <td>2000</td>\n",
       "      <td>1</td>\n",
       "      <td>Air transportation[481]</td>\n",
       "      <td>17500</td>\n",
       "      <td>481</td>\n",
       "      <td>0</td>\n",
       "    </tr>\n",
       "    <tr>\n",
       "      <th>4</th>\n",
       "      <td>2000</td>\n",
       "      <td>1</td>\n",
       "      <td>Ambulatory health care services[621]</td>\n",
       "      <td>53000</td>\n",
       "      <td>621</td>\n",
       "      <td>0</td>\n",
       "    </tr>\n",
       "    <tr>\n",
       "      <th>...</th>\n",
       "      <td>...</td>\n",
       "      <td>...</td>\n",
       "      <td>...</td>\n",
       "      <td>...</td>\n",
       "      <td>...</td>\n",
       "      <td>...</td>\n",
       "    </tr>\n",
       "    <tr>\n",
       "      <th>3703</th>\n",
       "      <td>1999</td>\n",
       "      <td>12</td>\n",
       "      <td>Utilities[221]</td>\n",
       "      <td>10000</td>\n",
       "      <td>413</td>\n",
       "      <td>0</td>\n",
       "    </tr>\n",
       "    <tr>\n",
       "      <th>3704</th>\n",
       "      <td>1999</td>\n",
       "      <td>12</td>\n",
       "      <td>Warehousing and storage[493]</td>\n",
       "      <td>4500</td>\n",
       "      <td>113</td>\n",
       "      <td>0</td>\n",
       "    </tr>\n",
       "    <tr>\n",
       "      <th>3705</th>\n",
       "      <td>1999</td>\n",
       "      <td>12</td>\n",
       "      <td>Waste management and remediation services[562]</td>\n",
       "      <td>4500</td>\n",
       "      <td>526</td>\n",
       "      <td>0</td>\n",
       "    </tr>\n",
       "    <tr>\n",
       "      <th>3706</th>\n",
       "      <td>1999</td>\n",
       "      <td>12</td>\n",
       "      <td>Water transportation[483]</td>\n",
       "      <td>6750</td>\n",
       "      <td>442</td>\n",
       "      <td>0</td>\n",
       "    </tr>\n",
       "    <tr>\n",
       "      <th>3707</th>\n",
       "      <td>1999</td>\n",
       "      <td>12</td>\n",
       "      <td>Wood product manufacturing[321]</td>\n",
       "      <td>44250</td>\n",
       "      <td>337</td>\n",
       "      <td>0</td>\n",
       "    </tr>\n",
       "  </tbody>\n",
       "</table>\n",
       "<p>28140 rows × 6 columns</p>\n",
       "</div>"
      ],
      "text/plain": [
       "      SYEAR  SMTH                                           NAICS  \\\n",
       "0      2000     1           Aboriginal public administration[914]   \n",
       "1      2000     1                     Accommodation services[721]   \n",
       "2      2000     1        Administrative and support services[561]   \n",
       "3      2000     1                         Air transportation[481]   \n",
       "4      2000     1            Ambulatory health care services[621]   \n",
       "...     ...   ...                                             ...   \n",
       "3703   1999    12                                  Utilities[221]   \n",
       "3704   1999    12                    Warehousing and storage[493]   \n",
       "3705   1999    12  Waste management and remediation services[562]   \n",
       "3706   1999    12                       Water transportation[483]   \n",
       "3707   1999    12                 Wood product manufacturing[321]   \n",
       "\n",
       "      _EMPLOYMENT_ CODE  Upper_Code  \n",
       "0              500  914           0  \n",
       "1            33750  721           0  \n",
       "2            55250  561           0  \n",
       "3            17500  481           0  \n",
       "4            53000  621           0  \n",
       "...            ...  ...         ...  \n",
       "3703         10000  413           0  \n",
       "3704          4500  113           0  \n",
       "3705          4500  526           0  \n",
       "3706          6750  442           0  \n",
       "3707         44250  337           0  \n",
       "\n",
       "[28140 rows x 6 columns]"
      ]
     },
     "execution_count": 184,
     "metadata": {},
     "output_type": "execute_result"
    }
   ],
   "source": [
    "df_3_NAICS"
   ]
  },
  {
   "cell_type": "markdown",
   "metadata": {},
   "source": [
    "### d- Loading and exploring the 4-Digit NAICS Industries data:"
   ]
  },
  {
   "cell_type": "code",
   "execution_count": 185,
   "metadata": {},
   "outputs": [],
   "source": [
    "# Get the data of 3digit NAICS industries\n",
    "df_4_NAICS = pd.concat(map(pd.read_csv, ['Data/RTRA_Employ_4NAICS_00_05.csv','Data/RTRA_Employ_4NAICS_06_10.csv', \n",
    "                                         'Data/RTRA_Employ_4NAICS_11_15.csv','Data/RTRA_Employ_4NAICS_16_20.csv',\n",
    "                                         'Data/RTRA_Employ_4NAICS_97_99.csv']))"
   ]
  },
  {
   "cell_type": "code",
   "execution_count": 186,
   "metadata": {},
   "outputs": [
    {
     "data": {
      "text/html": [
       "<div>\n",
       "<style scoped>\n",
       "    .dataframe tbody tr th:only-of-type {\n",
       "        vertical-align: middle;\n",
       "    }\n",
       "\n",
       "    .dataframe tbody tr th {\n",
       "        vertical-align: top;\n",
       "    }\n",
       "\n",
       "    .dataframe thead th {\n",
       "        text-align: right;\n",
       "    }\n",
       "</style>\n",
       "<table border=\"1\" class=\"dataframe\">\n",
       "  <thead>\n",
       "    <tr style=\"text-align: right;\">\n",
       "      <th></th>\n",
       "      <th>SYEAR</th>\n",
       "      <th>SMTH</th>\n",
       "      <th>NAICS</th>\n",
       "      <th>_EMPLOYMENT_</th>\n",
       "    </tr>\n",
       "  </thead>\n",
       "  <tbody>\n",
       "    <tr>\n",
       "      <th>0</th>\n",
       "      <td>2000</td>\n",
       "      <td>1</td>\n",
       "      <td>1100</td>\n",
       "      <td>500</td>\n",
       "    </tr>\n",
       "    <tr>\n",
       "      <th>1</th>\n",
       "      <td>2000</td>\n",
       "      <td>1</td>\n",
       "      <td>1111</td>\n",
       "      <td>0</td>\n",
       "    </tr>\n",
       "    <tr>\n",
       "      <th>2</th>\n",
       "      <td>2000</td>\n",
       "      <td>1</td>\n",
       "      <td>1112</td>\n",
       "      <td>2000</td>\n",
       "    </tr>\n",
       "    <tr>\n",
       "      <th>3</th>\n",
       "      <td>2000</td>\n",
       "      <td>1</td>\n",
       "      <td>1113</td>\n",
       "      <td>250</td>\n",
       "    </tr>\n",
       "    <tr>\n",
       "      <th>4</th>\n",
       "      <td>2000</td>\n",
       "      <td>1</td>\n",
       "      <td>1114</td>\n",
       "      <td>7750</td>\n",
       "    </tr>\n",
       "  </tbody>\n",
       "</table>\n",
       "</div>"
      ],
      "text/plain": [
       "   SYEAR  SMTH  NAICS  _EMPLOYMENT_\n",
       "0   2000     1   1100           500\n",
       "1   2000     1   1111             0\n",
       "2   2000     1   1112          2000\n",
       "3   2000     1   1113           250\n",
       "4   2000     1   1114          7750"
      ]
     },
     "execution_count": 186,
     "metadata": {},
     "output_type": "execute_result"
    }
   ],
   "source": [
    "df_4_NAICS.head()"
   ]
  },
  {
   "cell_type": "markdown",
   "metadata": {},
   "source": [
    "### Separate the Industry description and NAICS code \n"
   ]
  },
  {
   "cell_type": "markdown",
   "metadata": {},
   "source": [
    "Separate the code from NAICS into a lower and upper code columns."
   ]
  },
  {
   "cell_type": "code",
   "execution_count": 187,
   "metadata": {},
   "outputs": [],
   "source": [
    "# Separate the Industry description and NAICS code \n",
    "df_4_NAICS['CODE'] = df_4_NAICS['NAICS'] \n",
    "df_4_NAICS[\"Upper_Code\"] = None"
   ]
  },
  {
   "cell_type": "code",
   "execution_count": 188,
   "metadata": {},
   "outputs": [
    {
     "data": {
      "text/html": [
       "<div>\n",
       "<style scoped>\n",
       "    .dataframe tbody tr th:only-of-type {\n",
       "        vertical-align: middle;\n",
       "    }\n",
       "\n",
       "    .dataframe tbody tr th {\n",
       "        vertical-align: top;\n",
       "    }\n",
       "\n",
       "    .dataframe thead th {\n",
       "        text-align: right;\n",
       "    }\n",
       "</style>\n",
       "<table border=\"1\" class=\"dataframe\">\n",
       "  <thead>\n",
       "    <tr style=\"text-align: right;\">\n",
       "      <th></th>\n",
       "      <th>SYEAR</th>\n",
       "      <th>SMTH</th>\n",
       "      <th>NAICS</th>\n",
       "      <th>_EMPLOYMENT_</th>\n",
       "      <th>CODE</th>\n",
       "      <th>Upper_Code</th>\n",
       "    </tr>\n",
       "  </thead>\n",
       "  <tbody>\n",
       "    <tr>\n",
       "      <th>0</th>\n",
       "      <td>2000</td>\n",
       "      <td>1</td>\n",
       "      <td>1100</td>\n",
       "      <td>500</td>\n",
       "      <td>1100</td>\n",
       "      <td>None</td>\n",
       "    </tr>\n",
       "    <tr>\n",
       "      <th>1</th>\n",
       "      <td>2000</td>\n",
       "      <td>1</td>\n",
       "      <td>1111</td>\n",
       "      <td>0</td>\n",
       "      <td>1111</td>\n",
       "      <td>None</td>\n",
       "    </tr>\n",
       "    <tr>\n",
       "      <th>2</th>\n",
       "      <td>2000</td>\n",
       "      <td>1</td>\n",
       "      <td>1112</td>\n",
       "      <td>2000</td>\n",
       "      <td>1112</td>\n",
       "      <td>None</td>\n",
       "    </tr>\n",
       "    <tr>\n",
       "      <th>3</th>\n",
       "      <td>2000</td>\n",
       "      <td>1</td>\n",
       "      <td>1113</td>\n",
       "      <td>250</td>\n",
       "      <td>1113</td>\n",
       "      <td>None</td>\n",
       "    </tr>\n",
       "    <tr>\n",
       "      <th>4</th>\n",
       "      <td>2000</td>\n",
       "      <td>1</td>\n",
       "      <td>1114</td>\n",
       "      <td>7750</td>\n",
       "      <td>1114</td>\n",
       "      <td>None</td>\n",
       "    </tr>\n",
       "  </tbody>\n",
       "</table>\n",
       "</div>"
      ],
      "text/plain": [
       "   SYEAR  SMTH  NAICS  _EMPLOYMENT_  CODE Upper_Code\n",
       "0   2000     1   1100           500  1100       None\n",
       "1   2000     1   1111             0  1111       None\n",
       "2   2000     1   1112          2000  1112       None\n",
       "3   2000     1   1113           250  1113       None\n",
       "4   2000     1   1114          7750  1114       None"
      ]
     },
     "execution_count": 188,
     "metadata": {},
     "output_type": "execute_result"
    }
   ],
   "source": [
    "df_4_NAICS.head()"
   ]
  },
  {
   "cell_type": "code",
   "execution_count": 189,
   "metadata": {},
   "outputs": [
    {
     "data": {
      "text/plain": [
       "(85572, 6)"
      ]
     },
     "execution_count": 189,
     "metadata": {},
     "output_type": "execute_result"
    }
   ],
   "source": [
    "df_4_NAICS.shape"
   ]
  },
  {
   "cell_type": "code",
   "execution_count": 190,
   "metadata": {},
   "outputs": [
    {
     "data": {
      "text/html": [
       "<div>\n",
       "<style scoped>\n",
       "    .dataframe tbody tr th:only-of-type {\n",
       "        vertical-align: middle;\n",
       "    }\n",
       "\n",
       "    .dataframe tbody tr th {\n",
       "        vertical-align: top;\n",
       "    }\n",
       "\n",
       "    .dataframe thead th {\n",
       "        text-align: right;\n",
       "    }\n",
       "</style>\n",
       "<table border=\"1\" class=\"dataframe\">\n",
       "  <thead>\n",
       "    <tr style=\"text-align: right;\">\n",
       "      <th></th>\n",
       "      <th>SYEAR</th>\n",
       "      <th>SMTH</th>\n",
       "      <th>NAICS</th>\n",
       "      <th>_EMPLOYMENT_</th>\n",
       "      <th>CODE</th>\n",
       "      <th>Upper_Code</th>\n",
       "    </tr>\n",
       "  </thead>\n",
       "  <tbody>\n",
       "    <tr>\n",
       "      <th>11119</th>\n",
       "      <td>1999</td>\n",
       "      <td>12</td>\n",
       "      <td>9111</td>\n",
       "      <td>2250</td>\n",
       "      <td>9111</td>\n",
       "      <td>None</td>\n",
       "    </tr>\n",
       "    <tr>\n",
       "      <th>11120</th>\n",
       "      <td>1999</td>\n",
       "      <td>12</td>\n",
       "      <td>9120</td>\n",
       "      <td>28500</td>\n",
       "      <td>9120</td>\n",
       "      <td>None</td>\n",
       "    </tr>\n",
       "    <tr>\n",
       "      <th>11121</th>\n",
       "      <td>1999</td>\n",
       "      <td>12</td>\n",
       "      <td>9130</td>\n",
       "      <td>30250</td>\n",
       "      <td>9130</td>\n",
       "      <td>None</td>\n",
       "    </tr>\n",
       "    <tr>\n",
       "      <th>11122</th>\n",
       "      <td>1999</td>\n",
       "      <td>12</td>\n",
       "      <td>9141</td>\n",
       "      <td>500</td>\n",
       "      <td>9141</td>\n",
       "      <td>None</td>\n",
       "    </tr>\n",
       "    <tr>\n",
       "      <th>11123</th>\n",
       "      <td>1999</td>\n",
       "      <td>12</td>\n",
       "      <td>9191</td>\n",
       "      <td>750</td>\n",
       "      <td>9191</td>\n",
       "      <td>None</td>\n",
       "    </tr>\n",
       "  </tbody>\n",
       "</table>\n",
       "</div>"
      ],
      "text/plain": [
       "       SYEAR  SMTH  NAICS  _EMPLOYMENT_  CODE Upper_Code\n",
       "11119   1999    12   9111          2250  9111       None\n",
       "11120   1999    12   9120         28500  9120       None\n",
       "11121   1999    12   9130         30250  9130       None\n",
       "11122   1999    12   9141           500  9141       None\n",
       "11123   1999    12   9191           750  9191       None"
      ]
     },
     "execution_count": 190,
     "metadata": {},
     "output_type": "execute_result"
    }
   ],
   "source": [
    "df_4_NAICS.tail()"
   ]
  },
  {
   "cell_type": "code",
   "execution_count": 191,
   "metadata": {},
   "outputs": [
    {
     "data": {
      "text/plain": [
       "SYEAR               0\n",
       "SMTH                0\n",
       "NAICS               0\n",
       "_EMPLOYMENT_        0\n",
       "CODE                0\n",
       "Upper_Code      85572\n",
       "dtype: int64"
      ]
     },
     "execution_count": 191,
     "metadata": {},
     "output_type": "execute_result"
    }
   ],
   "source": [
    "df_4_NAICS.isna().sum()"
   ]
  },
  {
   "cell_type": "markdown",
   "metadata": {},
   "source": [
    "4 digits NAICS dosenot have Upper_Code."
   ]
  },
  {
   "cell_type": "markdown",
   "metadata": {},
   "source": [
    "## Combine all the 2, 3 and 4 digits NAICS"
   ]
  },
  {
   "cell_type": "code",
   "execution_count": 192,
   "metadata": {},
   "outputs": [],
   "source": [
    "combined_df = (df_2_NAICS.append(df_3_NAICS)).append(df_4_NAICS) "
   ]
  },
  {
   "cell_type": "code",
   "execution_count": 193,
   "metadata": {},
   "outputs": [
    {
     "data": {
      "text/html": [
       "<div>\n",
       "<style scoped>\n",
       "    .dataframe tbody tr th:only-of-type {\n",
       "        vertical-align: middle;\n",
       "    }\n",
       "\n",
       "    .dataframe tbody tr th {\n",
       "        vertical-align: top;\n",
       "    }\n",
       "\n",
       "    .dataframe thead th {\n",
       "        text-align: right;\n",
       "    }\n",
       "</style>\n",
       "<table border=\"1\" class=\"dataframe\">\n",
       "  <thead>\n",
       "    <tr style=\"text-align: right;\">\n",
       "      <th></th>\n",
       "      <th>SYEAR</th>\n",
       "      <th>SMTH</th>\n",
       "      <th>NAICS</th>\n",
       "      <th>_EMPLOYMENT_</th>\n",
       "      <th>CODE</th>\n",
       "      <th>Upper_Code</th>\n",
       "    </tr>\n",
       "  </thead>\n",
       "  <tbody>\n",
       "    <tr>\n",
       "      <th>0</th>\n",
       "      <td>2000</td>\n",
       "      <td>1</td>\n",
       "      <td>Accommodation and food services [72]</td>\n",
       "      <td>148000</td>\n",
       "      <td>72</td>\n",
       "      <td>None</td>\n",
       "    </tr>\n",
       "    <tr>\n",
       "      <th>1</th>\n",
       "      <td>2000</td>\n",
       "      <td>1</td>\n",
       "      <td>Administrative and support, waste management a...</td>\n",
       "      <td>59250</td>\n",
       "      <td>56</td>\n",
       "      <td>None</td>\n",
       "    </tr>\n",
       "    <tr>\n",
       "      <th>2</th>\n",
       "      <td>2000</td>\n",
       "      <td>1</td>\n",
       "      <td>Agriculture, forestry, fishing and hunting [11]</td>\n",
       "      <td>61750</td>\n",
       "      <td>11</td>\n",
       "      <td>None</td>\n",
       "    </tr>\n",
       "    <tr>\n",
       "      <th>3</th>\n",
       "      <td>2000</td>\n",
       "      <td>1</td>\n",
       "      <td>Arts, entertainment and recreation [71]</td>\n",
       "      <td>39500</td>\n",
       "      <td>71</td>\n",
       "      <td>None</td>\n",
       "    </tr>\n",
       "    <tr>\n",
       "      <th>4</th>\n",
       "      <td>2000</td>\n",
       "      <td>1</td>\n",
       "      <td>Construction [23]</td>\n",
       "      <td>106250</td>\n",
       "      <td>23</td>\n",
       "      <td>None</td>\n",
       "    </tr>\n",
       "    <tr>\n",
       "      <th>...</th>\n",
       "      <td>...</td>\n",
       "      <td>...</td>\n",
       "      <td>...</td>\n",
       "      <td>...</td>\n",
       "      <td>...</td>\n",
       "      <td>...</td>\n",
       "    </tr>\n",
       "    <tr>\n",
       "      <th>11119</th>\n",
       "      <td>1999</td>\n",
       "      <td>12</td>\n",
       "      <td>9111</td>\n",
       "      <td>2250</td>\n",
       "      <td>9111</td>\n",
       "      <td>None</td>\n",
       "    </tr>\n",
       "    <tr>\n",
       "      <th>11120</th>\n",
       "      <td>1999</td>\n",
       "      <td>12</td>\n",
       "      <td>9120</td>\n",
       "      <td>28500</td>\n",
       "      <td>9120</td>\n",
       "      <td>None</td>\n",
       "    </tr>\n",
       "    <tr>\n",
       "      <th>11121</th>\n",
       "      <td>1999</td>\n",
       "      <td>12</td>\n",
       "      <td>9130</td>\n",
       "      <td>30250</td>\n",
       "      <td>9130</td>\n",
       "      <td>None</td>\n",
       "    </tr>\n",
       "    <tr>\n",
       "      <th>11122</th>\n",
       "      <td>1999</td>\n",
       "      <td>12</td>\n",
       "      <td>9141</td>\n",
       "      <td>500</td>\n",
       "      <td>9141</td>\n",
       "      <td>None</td>\n",
       "    </tr>\n",
       "    <tr>\n",
       "      <th>11123</th>\n",
       "      <td>1999</td>\n",
       "      <td>12</td>\n",
       "      <td>9191</td>\n",
       "      <td>750</td>\n",
       "      <td>9191</td>\n",
       "      <td>None</td>\n",
       "    </tr>\n",
       "  </tbody>\n",
       "</table>\n",
       "<p>119184 rows × 6 columns</p>\n",
       "</div>"
      ],
      "text/plain": [
       "       SYEAR  SMTH                                              NAICS  \\\n",
       "0       2000     1               Accommodation and food services [72]   \n",
       "1       2000     1  Administrative and support, waste management a...   \n",
       "2       2000     1    Agriculture, forestry, fishing and hunting [11]   \n",
       "3       2000     1            Arts, entertainment and recreation [71]   \n",
       "4       2000     1                                  Construction [23]   \n",
       "...      ...   ...                                                ...   \n",
       "11119   1999    12                                               9111   \n",
       "11120   1999    12                                               9120   \n",
       "11121   1999    12                                               9130   \n",
       "11122   1999    12                                               9141   \n",
       "11123   1999    12                                               9191   \n",
       "\n",
       "       _EMPLOYMENT_  CODE Upper_Code  \n",
       "0            148000    72       None  \n",
       "1             59250    56       None  \n",
       "2             61750    11       None  \n",
       "3             39500    71       None  \n",
       "4            106250    23       None  \n",
       "...             ...   ...        ...  \n",
       "11119          2250  9111       None  \n",
       "11120         28500  9120       None  \n",
       "11121         30250  9130       None  \n",
       "11122           500  9141       None  \n",
       "11123           750  9191       None  \n",
       "\n",
       "[119184 rows x 6 columns]"
      ]
     },
     "execution_count": 193,
     "metadata": {},
     "output_type": "execute_result"
    }
   ],
   "source": [
    "combined_df"
   ]
  },
  {
   "cell_type": "markdown",
   "metadata": {},
   "source": [
    "### We need to perform our analysis from 1997 to 2018 so we need to drop 2019 rows."
   ]
  },
  {
   "cell_type": "code",
   "execution_count": 194,
   "metadata": {},
   "outputs": [
    {
     "data": {
      "text/html": [
       "<div>\n",
       "<style scoped>\n",
       "    .dataframe tbody tr th:only-of-type {\n",
       "        vertical-align: middle;\n",
       "    }\n",
       "\n",
       "    .dataframe tbody tr th {\n",
       "        vertical-align: top;\n",
       "    }\n",
       "\n",
       "    .dataframe thead th {\n",
       "        text-align: right;\n",
       "    }\n",
       "</style>\n",
       "<table border=\"1\" class=\"dataframe\">\n",
       "  <thead>\n",
       "    <tr style=\"text-align: right;\">\n",
       "      <th></th>\n",
       "      <th>SYEAR</th>\n",
       "      <th>SMTH</th>\n",
       "      <th>NAICS</th>\n",
       "      <th>_EMPLOYMENT_</th>\n",
       "      <th>CODE</th>\n",
       "      <th>Upper_Code</th>\n",
       "    </tr>\n",
       "  </thead>\n",
       "  <tbody>\n",
       "    <tr>\n",
       "      <th>0</th>\n",
       "      <td>2000</td>\n",
       "      <td>1</td>\n",
       "      <td>Accommodation and food services [72]</td>\n",
       "      <td>148000</td>\n",
       "      <td>72</td>\n",
       "      <td>None</td>\n",
       "    </tr>\n",
       "    <tr>\n",
       "      <th>1</th>\n",
       "      <td>2000</td>\n",
       "      <td>1</td>\n",
       "      <td>Administrative and support, waste management a...</td>\n",
       "      <td>59250</td>\n",
       "      <td>56</td>\n",
       "      <td>None</td>\n",
       "    </tr>\n",
       "    <tr>\n",
       "      <th>2</th>\n",
       "      <td>2000</td>\n",
       "      <td>1</td>\n",
       "      <td>Agriculture, forestry, fishing and hunting [11]</td>\n",
       "      <td>61750</td>\n",
       "      <td>11</td>\n",
       "      <td>None</td>\n",
       "    </tr>\n",
       "    <tr>\n",
       "      <th>3</th>\n",
       "      <td>2000</td>\n",
       "      <td>1</td>\n",
       "      <td>Arts, entertainment and recreation [71]</td>\n",
       "      <td>39500</td>\n",
       "      <td>71</td>\n",
       "      <td>None</td>\n",
       "    </tr>\n",
       "    <tr>\n",
       "      <th>4</th>\n",
       "      <td>2000</td>\n",
       "      <td>1</td>\n",
       "      <td>Construction [23]</td>\n",
       "      <td>106250</td>\n",
       "      <td>23</td>\n",
       "      <td>None</td>\n",
       "    </tr>\n",
       "    <tr>\n",
       "      <th>...</th>\n",
       "      <td>...</td>\n",
       "      <td>...</td>\n",
       "      <td>...</td>\n",
       "      <td>...</td>\n",
       "      <td>...</td>\n",
       "      <td>...</td>\n",
       "    </tr>\n",
       "    <tr>\n",
       "      <th>11119</th>\n",
       "      <td>1999</td>\n",
       "      <td>12</td>\n",
       "      <td>9111</td>\n",
       "      <td>2250</td>\n",
       "      <td>9111</td>\n",
       "      <td>None</td>\n",
       "    </tr>\n",
       "    <tr>\n",
       "      <th>11120</th>\n",
       "      <td>1999</td>\n",
       "      <td>12</td>\n",
       "      <td>9120</td>\n",
       "      <td>28500</td>\n",
       "      <td>9120</td>\n",
       "      <td>None</td>\n",
       "    </tr>\n",
       "    <tr>\n",
       "      <th>11121</th>\n",
       "      <td>1999</td>\n",
       "      <td>12</td>\n",
       "      <td>9130</td>\n",
       "      <td>30250</td>\n",
       "      <td>9130</td>\n",
       "      <td>None</td>\n",
       "    </tr>\n",
       "    <tr>\n",
       "      <th>11122</th>\n",
       "      <td>1999</td>\n",
       "      <td>12</td>\n",
       "      <td>9141</td>\n",
       "      <td>500</td>\n",
       "      <td>9141</td>\n",
       "      <td>None</td>\n",
       "    </tr>\n",
       "    <tr>\n",
       "      <th>11123</th>\n",
       "      <td>1999</td>\n",
       "      <td>12</td>\n",
       "      <td>9191</td>\n",
       "      <td>750</td>\n",
       "      <td>9191</td>\n",
       "      <td>None</td>\n",
       "    </tr>\n",
       "  </tbody>\n",
       "</table>\n",
       "<p>119184 rows × 6 columns</p>\n",
       "</div>"
      ],
      "text/plain": [
       "       SYEAR  SMTH                                              NAICS  \\\n",
       "0       2000     1               Accommodation and food services [72]   \n",
       "1       2000     1  Administrative and support, waste management a...   \n",
       "2       2000     1    Agriculture, forestry, fishing and hunting [11]   \n",
       "3       2000     1            Arts, entertainment and recreation [71]   \n",
       "4       2000     1                                  Construction [23]   \n",
       "...      ...   ...                                                ...   \n",
       "11119   1999    12                                               9111   \n",
       "11120   1999    12                                               9120   \n",
       "11121   1999    12                                               9130   \n",
       "11122   1999    12                                               9141   \n",
       "11123   1999    12                                               9191   \n",
       "\n",
       "       _EMPLOYMENT_  CODE Upper_Code  \n",
       "0            148000    72       None  \n",
       "1             59250    56       None  \n",
       "2             61750    11       None  \n",
       "3             39500    71       None  \n",
       "4            106250    23       None  \n",
       "...             ...   ...        ...  \n",
       "11119          2250  9111       None  \n",
       "11120         28500  9120       None  \n",
       "11121         30250  9130       None  \n",
       "11122           500  9141       None  \n",
       "11123           750  9191       None  \n",
       "\n",
       "[119184 rows x 6 columns]"
      ]
     },
     "execution_count": 194,
     "metadata": {},
     "output_type": "execute_result"
    }
   ],
   "source": [
    "#filtering our df\n",
    "combined_df= combined_df[~((combined_df.SYEAR).astype('str')>'2019')]\n",
    "combined_df"
   ]
  },
  {
   "cell_type": "markdown",
   "metadata": {},
   "source": [
    "## Joining codes to the output template, To get the data_output formated result\n"
   ]
  },
  {
   "cell_type": "code",
   "execution_count": 195,
   "metadata": {},
   "outputs": [],
   "source": [
    "#Read 'Data_Output_Template' file\n",
    "\n",
    "output_df = pd.read_excel('Data\\Data_Output_Template.xlsx')"
   ]
  },
  {
   "cell_type": "code",
   "execution_count": 196,
   "metadata": {},
   "outputs": [],
   "source": [
    "#join tables\n",
    "output_df= output_df.merge(LMO_Detailed_Industries_df,how='left', on='LMO_Detailed_Industry')"
   ]
  },
  {
   "cell_type": "code",
   "execution_count": 197,
   "metadata": {},
   "outputs": [
    {
     "data": {
      "text/html": [
       "<div>\n",
       "<style scoped>\n",
       "    .dataframe tbody tr th:only-of-type {\n",
       "        vertical-align: middle;\n",
       "    }\n",
       "\n",
       "    .dataframe tbody tr th {\n",
       "        vertical-align: top;\n",
       "    }\n",
       "\n",
       "    .dataframe thead th {\n",
       "        text-align: right;\n",
       "    }\n",
       "</style>\n",
       "<table border=\"1\" class=\"dataframe\">\n",
       "  <thead>\n",
       "    <tr style=\"text-align: right;\">\n",
       "      <th></th>\n",
       "      <th>SYEAR</th>\n",
       "      <th>SMTH</th>\n",
       "      <th>LMO_Detailed_Industry</th>\n",
       "      <th>Employment</th>\n",
       "      <th>CODE</th>\n",
       "    </tr>\n",
       "  </thead>\n",
       "  <tbody>\n",
       "    <tr>\n",
       "      <th>0</th>\n",
       "      <td>1997</td>\n",
       "      <td>1</td>\n",
       "      <td>Accommodation services</td>\n",
       "      <td>NaN</td>\n",
       "      <td>721</td>\n",
       "    </tr>\n",
       "    <tr>\n",
       "      <th>1</th>\n",
       "      <td>1997</td>\n",
       "      <td>1</td>\n",
       "      <td>Air transportation</td>\n",
       "      <td>NaN</td>\n",
       "      <td>481</td>\n",
       "    </tr>\n",
       "    <tr>\n",
       "      <th>2</th>\n",
       "      <td>1997</td>\n",
       "      <td>1</td>\n",
       "      <td>Ambulatory health care services</td>\n",
       "      <td>NaN</td>\n",
       "      <td>621</td>\n",
       "    </tr>\n",
       "    <tr>\n",
       "      <th>3</th>\n",
       "      <td>1997</td>\n",
       "      <td>1</td>\n",
       "      <td>Amusement, gambling and recreation industries</td>\n",
       "      <td>NaN</td>\n",
       "      <td>713</td>\n",
       "    </tr>\n",
       "    <tr>\n",
       "      <th>4</th>\n",
       "      <td>1997</td>\n",
       "      <td>1</td>\n",
       "      <td>Architectural, engineering and related services</td>\n",
       "      <td>NaN</td>\n",
       "      <td>5413</td>\n",
       "    </tr>\n",
       "  </tbody>\n",
       "</table>\n",
       "</div>"
      ],
      "text/plain": [
       "   SYEAR  SMTH                            LMO_Detailed_Industry  Employment  \\\n",
       "0   1997     1                           Accommodation services         NaN   \n",
       "1   1997     1                               Air transportation         NaN   \n",
       "2   1997     1                  Ambulatory health care services         NaN   \n",
       "3   1997     1    Amusement, gambling and recreation industries         NaN   \n",
       "4   1997     1  Architectural, engineering and related services         NaN   \n",
       "\n",
       "   CODE  \n",
       "0   721  \n",
       "1   481  \n",
       "2   621  \n",
       "3   713  \n",
       "4  5413  "
      ]
     },
     "execution_count": 197,
     "metadata": {},
     "output_type": "execute_result"
    }
   ],
   "source": [
    "output_df.head()"
   ]
  },
  {
   "cell_type": "code",
   "execution_count": 198,
   "metadata": {},
   "outputs": [],
   "source": [
    "#Add data to the output template\n",
    "cols = ['SYEAR', 'SMTH', 'CODE']\n",
    "output_df['check']= output_df[cols].apply(lambda row: '_'.join(row.values.astype(str)), axis=1)"
   ]
  },
  {
   "cell_type": "code",
   "execution_count": 199,
   "metadata": {},
   "outputs": [
    {
     "data": {
      "text/html": [
       "<div>\n",
       "<style scoped>\n",
       "    .dataframe tbody tr th:only-of-type {\n",
       "        vertical-align: middle;\n",
       "    }\n",
       "\n",
       "    .dataframe tbody tr th {\n",
       "        vertical-align: top;\n",
       "    }\n",
       "\n",
       "    .dataframe thead th {\n",
       "        text-align: right;\n",
       "    }\n",
       "</style>\n",
       "<table border=\"1\" class=\"dataframe\">\n",
       "  <thead>\n",
       "    <tr style=\"text-align: right;\">\n",
       "      <th></th>\n",
       "      <th>SYEAR</th>\n",
       "      <th>SMTH</th>\n",
       "      <th>LMO_Detailed_Industry</th>\n",
       "      <th>Employment</th>\n",
       "      <th>CODE</th>\n",
       "      <th>check</th>\n",
       "    </tr>\n",
       "  </thead>\n",
       "  <tbody>\n",
       "    <tr>\n",
       "      <th>0</th>\n",
       "      <td>1997</td>\n",
       "      <td>1</td>\n",
       "      <td>Accommodation services</td>\n",
       "      <td>NaN</td>\n",
       "      <td>721</td>\n",
       "      <td>1997_1_721</td>\n",
       "    </tr>\n",
       "    <tr>\n",
       "      <th>1</th>\n",
       "      <td>1997</td>\n",
       "      <td>1</td>\n",
       "      <td>Air transportation</td>\n",
       "      <td>NaN</td>\n",
       "      <td>481</td>\n",
       "      <td>1997_1_481</td>\n",
       "    </tr>\n",
       "    <tr>\n",
       "      <th>2</th>\n",
       "      <td>1997</td>\n",
       "      <td>1</td>\n",
       "      <td>Ambulatory health care services</td>\n",
       "      <td>NaN</td>\n",
       "      <td>621</td>\n",
       "      <td>1997_1_621</td>\n",
       "    </tr>\n",
       "    <tr>\n",
       "      <th>3</th>\n",
       "      <td>1997</td>\n",
       "      <td>1</td>\n",
       "      <td>Amusement, gambling and recreation industries</td>\n",
       "      <td>NaN</td>\n",
       "      <td>713</td>\n",
       "      <td>1997_1_713</td>\n",
       "    </tr>\n",
       "    <tr>\n",
       "      <th>4</th>\n",
       "      <td>1997</td>\n",
       "      <td>1</td>\n",
       "      <td>Architectural, engineering and related services</td>\n",
       "      <td>NaN</td>\n",
       "      <td>5413</td>\n",
       "      <td>1997_1_5413</td>\n",
       "    </tr>\n",
       "  </tbody>\n",
       "</table>\n",
       "</div>"
      ],
      "text/plain": [
       "   SYEAR  SMTH                            LMO_Detailed_Industry  Employment  \\\n",
       "0   1997     1                           Accommodation services         NaN   \n",
       "1   1997     1                               Air transportation         NaN   \n",
       "2   1997     1                  Ambulatory health care services         NaN   \n",
       "3   1997     1    Amusement, gambling and recreation industries         NaN   \n",
       "4   1997     1  Architectural, engineering and related services         NaN   \n",
       "\n",
       "   CODE        check  \n",
       "0   721   1997_1_721  \n",
       "1   481   1997_1_481  \n",
       "2   621   1997_1_621  \n",
       "3   713   1997_1_713  \n",
       "4  5413  1997_1_5413  "
      ]
     },
     "execution_count": 199,
     "metadata": {},
     "output_type": "execute_result"
    }
   ],
   "source": [
    "output_df.head()"
   ]
  },
  {
   "cell_type": "code",
   "execution_count": 200,
   "metadata": {},
   "outputs": [],
   "source": [
    "combined_df['check']= combined_df[cols].apply(lambda row: '_'.join(row.values.astype(str)), axis=1)\n",
    "\n",
    "combined_df=combined_df[['check', '_EMPLOYMENT_']]"
   ]
  },
  {
   "cell_type": "code",
   "execution_count": 201,
   "metadata": {},
   "outputs": [
    {
     "data": {
      "text/html": [
       "<div>\n",
       "<style scoped>\n",
       "    .dataframe tbody tr th:only-of-type {\n",
       "        vertical-align: middle;\n",
       "    }\n",
       "\n",
       "    .dataframe tbody tr th {\n",
       "        vertical-align: top;\n",
       "    }\n",
       "\n",
       "    .dataframe thead th {\n",
       "        text-align: right;\n",
       "    }\n",
       "</style>\n",
       "<table border=\"1\" class=\"dataframe\">\n",
       "  <thead>\n",
       "    <tr style=\"text-align: right;\">\n",
       "      <th></th>\n",
       "      <th>check</th>\n",
       "      <th>_EMPLOYMENT_</th>\n",
       "    </tr>\n",
       "  </thead>\n",
       "  <tbody>\n",
       "    <tr>\n",
       "      <th>0</th>\n",
       "      <td>2000_1_72</td>\n",
       "      <td>148000</td>\n",
       "    </tr>\n",
       "    <tr>\n",
       "      <th>1</th>\n",
       "      <td>2000_1_56</td>\n",
       "      <td>59250</td>\n",
       "    </tr>\n",
       "    <tr>\n",
       "      <th>2</th>\n",
       "      <td>2000_1_11</td>\n",
       "      <td>61750</td>\n",
       "    </tr>\n",
       "    <tr>\n",
       "      <th>3</th>\n",
       "      <td>2000_1_71</td>\n",
       "      <td>39500</td>\n",
       "    </tr>\n",
       "    <tr>\n",
       "      <th>4</th>\n",
       "      <td>2000_1_23</td>\n",
       "      <td>106250</td>\n",
       "    </tr>\n",
       "  </tbody>\n",
       "</table>\n",
       "</div>"
      ],
      "text/plain": [
       "       check  _EMPLOYMENT_\n",
       "0  2000_1_72        148000\n",
       "1  2000_1_56         59250\n",
       "2  2000_1_11         61750\n",
       "3  2000_1_71         39500\n",
       "4  2000_1_23        106250"
      ]
     },
     "execution_count": 201,
     "metadata": {},
     "output_type": "execute_result"
    }
   ],
   "source": [
    "combined_df.head()"
   ]
  },
  {
   "cell_type": "code",
   "execution_count": 202,
   "metadata": {},
   "outputs": [],
   "source": [
    "output_df=output_df.merge(combined_df,how='left', on='check')\n"
   ]
  },
  {
   "cell_type": "code",
   "execution_count": 203,
   "metadata": {},
   "outputs": [
    {
     "data": {
      "text/html": [
       "<div>\n",
       "<style scoped>\n",
       "    .dataframe tbody tr th:only-of-type {\n",
       "        vertical-align: middle;\n",
       "    }\n",
       "\n",
       "    .dataframe tbody tr th {\n",
       "        vertical-align: top;\n",
       "    }\n",
       "\n",
       "    .dataframe thead th {\n",
       "        text-align: right;\n",
       "    }\n",
       "</style>\n",
       "<table border=\"1\" class=\"dataframe\">\n",
       "  <thead>\n",
       "    <tr style=\"text-align: right;\">\n",
       "      <th></th>\n",
       "      <th>SYEAR</th>\n",
       "      <th>SMTH</th>\n",
       "      <th>LMO_Detailed_Industry</th>\n",
       "      <th>Employment</th>\n",
       "      <th>CODE</th>\n",
       "      <th>check</th>\n",
       "      <th>_EMPLOYMENT_</th>\n",
       "    </tr>\n",
       "  </thead>\n",
       "  <tbody>\n",
       "    <tr>\n",
       "      <th>0</th>\n",
       "      <td>1997</td>\n",
       "      <td>1</td>\n",
       "      <td>Accommodation services</td>\n",
       "      <td>NaN</td>\n",
       "      <td>721</td>\n",
       "      <td>1997_1_721</td>\n",
       "      <td>24000.0</td>\n",
       "    </tr>\n",
       "    <tr>\n",
       "      <th>1</th>\n",
       "      <td>1997</td>\n",
       "      <td>1</td>\n",
       "      <td>Air transportation</td>\n",
       "      <td>NaN</td>\n",
       "      <td>481</td>\n",
       "      <td>1997_1_481</td>\n",
       "      <td>17000.0</td>\n",
       "    </tr>\n",
       "    <tr>\n",
       "      <th>2</th>\n",
       "      <td>1997</td>\n",
       "      <td>1</td>\n",
       "      <td>Ambulatory health care services</td>\n",
       "      <td>NaN</td>\n",
       "      <td>621</td>\n",
       "      <td>1997_1_621</td>\n",
       "      <td>40000.0</td>\n",
       "    </tr>\n",
       "    <tr>\n",
       "      <th>3</th>\n",
       "      <td>1997</td>\n",
       "      <td>1</td>\n",
       "      <td>Amusement, gambling and recreation industries</td>\n",
       "      <td>NaN</td>\n",
       "      <td>713</td>\n",
       "      <td>1997_1_713</td>\n",
       "      <td>20000.0</td>\n",
       "    </tr>\n",
       "    <tr>\n",
       "      <th>4</th>\n",
       "      <td>1997</td>\n",
       "      <td>1</td>\n",
       "      <td>Architectural, engineering and related services</td>\n",
       "      <td>NaN</td>\n",
       "      <td>5413</td>\n",
       "      <td>1997_1_5413</td>\n",
       "      <td>27000.0</td>\n",
       "    </tr>\n",
       "    <tr>\n",
       "      <th>...</th>\n",
       "      <td>...</td>\n",
       "      <td>...</td>\n",
       "      <td>...</td>\n",
       "      <td>...</td>\n",
       "      <td>...</td>\n",
       "      <td>...</td>\n",
       "      <td>...</td>\n",
       "    </tr>\n",
       "    <tr>\n",
       "      <th>28258</th>\n",
       "      <td>2018</td>\n",
       "      <td>12</td>\n",
       "      <td>Utilities</td>\n",
       "      <td>NaN</td>\n",
       "      <td>22</td>\n",
       "      <td>2018_12_22</td>\n",
       "      <td>106500.0</td>\n",
       "    </tr>\n",
       "    <tr>\n",
       "      <th>28259</th>\n",
       "      <td>2018</td>\n",
       "      <td>12</td>\n",
       "      <td>Warehousing and storage</td>\n",
       "      <td>NaN</td>\n",
       "      <td>493</td>\n",
       "      <td>2018_12_493</td>\n",
       "      <td>19250.0</td>\n",
       "    </tr>\n",
       "    <tr>\n",
       "      <th>28260</th>\n",
       "      <td>2018</td>\n",
       "      <td>12</td>\n",
       "      <td>Water transportation</td>\n",
       "      <td>NaN</td>\n",
       "      <td>483</td>\n",
       "      <td>2018_12_483</td>\n",
       "      <td>0.0</td>\n",
       "    </tr>\n",
       "    <tr>\n",
       "      <th>28261</th>\n",
       "      <td>2018</td>\n",
       "      <td>12</td>\n",
       "      <td>Wholesale trade</td>\n",
       "      <td>NaN</td>\n",
       "      <td>41</td>\n",
       "      <td>2018_12_41</td>\n",
       "      <td>51750.0</td>\n",
       "    </tr>\n",
       "    <tr>\n",
       "      <th>28262</th>\n",
       "      <td>2018</td>\n",
       "      <td>12</td>\n",
       "      <td>Wood product manufacturing</td>\n",
       "      <td>NaN</td>\n",
       "      <td>321</td>\n",
       "      <td>2018_12_321</td>\n",
       "      <td>7500.0</td>\n",
       "    </tr>\n",
       "  </tbody>\n",
       "</table>\n",
       "<p>28263 rows × 7 columns</p>\n",
       "</div>"
      ],
      "text/plain": [
       "       SYEAR  SMTH                            LMO_Detailed_Industry  \\\n",
       "0       1997     1                           Accommodation services   \n",
       "1       1997     1                               Air transportation   \n",
       "2       1997     1                  Ambulatory health care services   \n",
       "3       1997     1    Amusement, gambling and recreation industries   \n",
       "4       1997     1  Architectural, engineering and related services   \n",
       "...      ...   ...                                              ...   \n",
       "28258   2018    12                                        Utilities   \n",
       "28259   2018    12                          Warehousing and storage   \n",
       "28260   2018    12                             Water transportation   \n",
       "28261   2018    12                                  Wholesale trade   \n",
       "28262   2018    12                       Wood product manufacturing   \n",
       "\n",
       "       Employment  CODE        check  _EMPLOYMENT_  \n",
       "0             NaN   721   1997_1_721       24000.0  \n",
       "1             NaN   481   1997_1_481       17000.0  \n",
       "2             NaN   621   1997_1_621       40000.0  \n",
       "3             NaN   713   1997_1_713       20000.0  \n",
       "4             NaN  5413  1997_1_5413       27000.0  \n",
       "...           ...   ...          ...           ...  \n",
       "28258         NaN    22   2018_12_22      106500.0  \n",
       "28259         NaN   493  2018_12_493       19250.0  \n",
       "28260         NaN   483  2018_12_483           0.0  \n",
       "28261         NaN    41   2018_12_41       51750.0  \n",
       "28262         NaN   321  2018_12_321        7500.0  \n",
       "\n",
       "[28263 rows x 7 columns]"
      ]
     },
     "execution_count": 203,
     "metadata": {},
     "output_type": "execute_result"
    }
   ],
   "source": [
    "output_df"
   ]
  },
  {
   "cell_type": "code",
   "execution_count": 204,
   "metadata": {},
   "outputs": [],
   "source": [
    "output_df.drop(['Employment','check'],axis=1,inplace=True)\n",
    "output_df.columns=['SYEAR', 'SMTH', 'LMO_Detailed_Industry', 'CODE', 'Employment']"
   ]
  },
  {
   "cell_type": "code",
   "execution_count": 205,
   "metadata": {},
   "outputs": [
    {
     "data": {
      "text/html": [
       "<div>\n",
       "<style scoped>\n",
       "    .dataframe tbody tr th:only-of-type {\n",
       "        vertical-align: middle;\n",
       "    }\n",
       "\n",
       "    .dataframe tbody tr th {\n",
       "        vertical-align: top;\n",
       "    }\n",
       "\n",
       "    .dataframe thead th {\n",
       "        text-align: right;\n",
       "    }\n",
       "</style>\n",
       "<table border=\"1\" class=\"dataframe\">\n",
       "  <thead>\n",
       "    <tr style=\"text-align: right;\">\n",
       "      <th></th>\n",
       "      <th>SYEAR</th>\n",
       "      <th>SMTH</th>\n",
       "      <th>LMO_Detailed_Industry</th>\n",
       "      <th>CODE</th>\n",
       "      <th>Employment</th>\n",
       "    </tr>\n",
       "  </thead>\n",
       "  <tbody>\n",
       "    <tr>\n",
       "      <th>0</th>\n",
       "      <td>1997</td>\n",
       "      <td>1</td>\n",
       "      <td>Accommodation services</td>\n",
       "      <td>721</td>\n",
       "      <td>24000.0</td>\n",
       "    </tr>\n",
       "    <tr>\n",
       "      <th>1</th>\n",
       "      <td>1997</td>\n",
       "      <td>1</td>\n",
       "      <td>Air transportation</td>\n",
       "      <td>481</td>\n",
       "      <td>17000.0</td>\n",
       "    </tr>\n",
       "    <tr>\n",
       "      <th>2</th>\n",
       "      <td>1997</td>\n",
       "      <td>1</td>\n",
       "      <td>Ambulatory health care services</td>\n",
       "      <td>621</td>\n",
       "      <td>40000.0</td>\n",
       "    </tr>\n",
       "    <tr>\n",
       "      <th>3</th>\n",
       "      <td>1997</td>\n",
       "      <td>1</td>\n",
       "      <td>Amusement, gambling and recreation industries</td>\n",
       "      <td>713</td>\n",
       "      <td>20000.0</td>\n",
       "    </tr>\n",
       "    <tr>\n",
       "      <th>4</th>\n",
       "      <td>1997</td>\n",
       "      <td>1</td>\n",
       "      <td>Architectural, engineering and related services</td>\n",
       "      <td>5413</td>\n",
       "      <td>27000.0</td>\n",
       "    </tr>\n",
       "    <tr>\n",
       "      <th>...</th>\n",
       "      <td>...</td>\n",
       "      <td>...</td>\n",
       "      <td>...</td>\n",
       "      <td>...</td>\n",
       "      <td>...</td>\n",
       "    </tr>\n",
       "    <tr>\n",
       "      <th>28258</th>\n",
       "      <td>2018</td>\n",
       "      <td>12</td>\n",
       "      <td>Utilities</td>\n",
       "      <td>22</td>\n",
       "      <td>106500.0</td>\n",
       "    </tr>\n",
       "    <tr>\n",
       "      <th>28259</th>\n",
       "      <td>2018</td>\n",
       "      <td>12</td>\n",
       "      <td>Warehousing and storage</td>\n",
       "      <td>493</td>\n",
       "      <td>19250.0</td>\n",
       "    </tr>\n",
       "    <tr>\n",
       "      <th>28260</th>\n",
       "      <td>2018</td>\n",
       "      <td>12</td>\n",
       "      <td>Water transportation</td>\n",
       "      <td>483</td>\n",
       "      <td>0.0</td>\n",
       "    </tr>\n",
       "    <tr>\n",
       "      <th>28261</th>\n",
       "      <td>2018</td>\n",
       "      <td>12</td>\n",
       "      <td>Wholesale trade</td>\n",
       "      <td>41</td>\n",
       "      <td>51750.0</td>\n",
       "    </tr>\n",
       "    <tr>\n",
       "      <th>28262</th>\n",
       "      <td>2018</td>\n",
       "      <td>12</td>\n",
       "      <td>Wood product manufacturing</td>\n",
       "      <td>321</td>\n",
       "      <td>7500.0</td>\n",
       "    </tr>\n",
       "  </tbody>\n",
       "</table>\n",
       "<p>28263 rows × 5 columns</p>\n",
       "</div>"
      ],
      "text/plain": [
       "       SYEAR  SMTH                            LMO_Detailed_Industry  CODE  \\\n",
       "0       1997     1                           Accommodation services   721   \n",
       "1       1997     1                               Air transportation   481   \n",
       "2       1997     1                  Ambulatory health care services   621   \n",
       "3       1997     1    Amusement, gambling and recreation industries   713   \n",
       "4       1997     1  Architectural, engineering and related services  5413   \n",
       "...      ...   ...                                              ...   ...   \n",
       "28258   2018    12                                        Utilities    22   \n",
       "28259   2018    12                          Warehousing and storage   493   \n",
       "28260   2018    12                             Water transportation   483   \n",
       "28261   2018    12                                  Wholesale trade    41   \n",
       "28262   2018    12                       Wood product manufacturing   321   \n",
       "\n",
       "       Employment  \n",
       "0         24000.0  \n",
       "1         17000.0  \n",
       "2         40000.0  \n",
       "3         20000.0  \n",
       "4         27000.0  \n",
       "...           ...  \n",
       "28258    106500.0  \n",
       "28259     19250.0  \n",
       "28260         0.0  \n",
       "28261     51750.0  \n",
       "28262      7500.0  \n",
       "\n",
       "[28263 rows x 5 columns]"
      ]
     },
     "execution_count": 205,
     "metadata": {},
     "output_type": "execute_result"
    }
   ],
   "source": [
    "output_df"
   ]
  },
  {
   "cell_type": "code",
   "execution_count": 206,
   "metadata": {},
   "outputs": [],
   "source": [
    "# Export data_output to excel file\n",
    "output_df.to_excel('Data_Output.xlsx', header=True, index=False)"
   ]
  },
  {
   "cell_type": "markdown",
   "metadata": {},
   "source": [
    "## Exploratory Data Analysis\n"
   ]
  },
  {
   "cell_type": "markdown",
   "metadata": {},
   "source": [
    "### 1- HOW DID THE EMPLOYMENT EVOLVED OVER TIME ACROSS ALL INDUSTRIES?"
   ]
  },
  {
   "cell_type": "code",
   "execution_count": 207,
   "metadata": {},
   "outputs": [],
   "source": [
    "employment_years=output_df.groupby('SYEAR')['Employment'].mean()\n"
   ]
  },
  {
   "cell_type": "code",
   "execution_count": 208,
   "metadata": {},
   "outputs": [
    {
     "data": {
      "image/png": "[encoded data removed]",
      "text/plain": [
       "<Figure size 432x288 with 1 Axes>"
      ]
     },
     "metadata": {},
     "output_type": "display_data"
    }
   ],
   "source": [
    "#lineplot\n",
    "sns.set_style('whitegrid')\n",
    "sns.lineplot(data=employment_years)\n",
    "plt.title('Variance of Employment Over Years')\n",
    "plt.xlabel('YEARS')\n",
    "plt.ylabel('Employment')\n",
    "plt.show()\n"
   ]
  },
  {
   "cell_type": "markdown",
   "metadata": {},
   "source": [
    "We can see that employment was always evolving throughout the years. <br>\n",
    "Before 2000, it was at its lowest and decreasing and then started increasing slowly. <br>\n",
    "There was a little peak between 2005 and 2010,then started to decrease just after which interfere with 2008 economic crisis. Between 2010 and 2015 it was still instable, still some ups and downs then it started increasing from there till it reached more than 30k in 2018. "
   ]
  },
  {
   "cell_type": "markdown",
   "metadata": {},
   "source": [
    "### 2- what is the employment wise top Industries "
   ]
  },
  {
   "cell_type": "code",
   "execution_count": 209,
   "metadata": {},
   "outputs": [
    {
     "data": {
      "text/plain": [
       "LMO_Detailed_Industry\n",
       "Accommodation services                              9080750.0\n",
       "Air transportation                                  4325000.0\n",
       "Ambulatory health care services                    14124250.0\n",
       "Amusement, gambling and recreation industries       8116000.0\n",
       "Architectural, engineering and related services     8925250.0\n",
       "Name: Employment, dtype: float64"
      ]
     },
     "execution_count": 209,
     "metadata": {},
     "output_type": "execute_result"
    }
   ],
   "source": [
    "# Creating a dataframe with emplyment wise industry\n",
    "emp_industry = output_df.groupby([\"LMO_Detailed_Industry\"])[\"Employment\"].sum()\n",
    "emp_industry.head()"
   ]
  },
  {
   "cell_type": "code",
   "execution_count": 210,
   "metadata": {},
   "outputs": [
    {
     "data": {
      "text/plain": [
       "<AxesSubplot:ylabel='LMO_Detailed_Industry'>"
      ]
     },
     "execution_count": 210,
     "metadata": {},
     "output_type": "execute_result"
    },
    {
     "data": {
      "image/png": "[encoded data removed]",
      "text/plain": [
       "<Figure size 1440x1800 with 1 Axes>"
      ]
     },
     "metadata": {},
     "output_type": "display_data"
    }
   ],
   "source": [
    "#plot all industries\n",
    "emp_industry = emp_industry.sort_values(ascending=True)\n",
    "emp_industry.sort_values(ascending=True).plot(kind=\"barh\", figsize=(20,25),color=[\"red\", \"blue\", \"green\"])"
   ]
  },
  {
   "cell_type": "markdown",
   "metadata": {},
   "source": [
    "#### Top 10 industries"
   ]
  },
  {
   "cell_type": "code",
   "execution_count": 211,
   "metadata": {},
   "outputs": [
    {
     "data": {
      "text/plain": [
       "LMO_Detailed_Industry\n",
       "Other retail trade (excluding cars and personal care)     53025000.0\n",
       "Construction                                              41848750.0\n",
       "Food services and drinking places                         27170250.0\n",
       "Repair, personal and non-profit services                  26550250.0\n",
       "Elementary and secondary schools                          22085500.0\n",
       "Name: Employment, dtype: float64"
      ]
     },
     "execution_count": 211,
     "metadata": {},
     "output_type": "execute_result"
    }
   ],
   "source": [
    "top_10 = emp_industry.sort_values(ascending=False)[:10]\n",
    "top_10.head()"
   ]
  },
  {
   "cell_type": "code",
   "execution_count": 212,
   "metadata": {},
   "outputs": [
    {
     "data": {
      "text/plain": [
       "<AxesSubplot:ylabel='LMO_Detailed_Industry'>"
      ]
     },
     "execution_count": 212,
     "metadata": {},
     "output_type": "execute_result"
    },
    {
     "data": {
      "image/png": "[encoded data removed]",
      "text/plain": [
       "<Figure size 432x288 with 1 Axes>"
      ]
     },
     "metadata": {},
     "output_type": "display_data"
    }
   ],
   "source": [
    "# Plotting employment wise top 10 Industries.\n",
    "\n",
    "top_10.plot(kind=\"barh\", color=[\"red\", \"blue\", \"green\"])"
   ]
  },
  {
   "cell_type": "code",
   "execution_count": 218,
   "metadata": {},
   "outputs": [
    {
     "data": {
      "text/plain": [
       "<AxesSubplot:ylabel='Employment'>"
      ]
     },
     "execution_count": 218,
     "metadata": {},
     "output_type": "execute_result"
    },
    {
     "data": {
      "image/png": "[encoded data removed]",
      "text/plain": [
       "<Figure size 576x576 with 1 Axes>"
      ]
     },
     "metadata": {},
     "output_type": "display_data"
    }
   ],
   "source": [
    "top_10.plot.pie(figsize=(8, 8))\n"
   ]
  },
  {
   "cell_type": "markdown",
   "metadata": {},
   "source": [
    "As we can see, Other retail trade (excluding cars and personal care), and Construction are the employment wise top two Industries with 53025000 and 41848750 representatively.                                       "
   ]
  },
  {
   "cell_type": "markdown",
   "metadata": {},
   "source": [
    "### 3- What are the 5 sectors with lowest numbers of Employees currently and investigate their evolution?\n"
   ]
  },
  {
   "cell_type": "code",
   "execution_count": 219,
   "metadata": {},
   "outputs": [],
   "source": [
    "last_10 = emp_industry.sort_values(ascending=True)[:10]"
   ]
  },
  {
   "cell_type": "code",
   "execution_count": 220,
   "metadata": {},
   "outputs": [
    {
     "data": {
      "text/plain": [
       "LMO_Detailed_Industry\n",
       "Food, beverage and tobacco manufacturing                                 0.0\n",
       "Finance                                                                  0.0\n",
       "Business, building and other support services                            0.0\n",
       "Farms                                                                    0.0\n",
       "Postal service, couriers and messengers                                  0.0\n",
       "Transportation equipment manufacturing (excluding shipbuilding)     217000.0\n",
       "Private and trades education                                        231250.0\n",
       "Ship and boat building                                             1048750.0\n",
       "Other manufacturing                                                1582750.0\n",
       "Fishing, hunting and trapping                                      1935750.0\n",
       "Name: Employment, dtype: float64"
      ]
     },
     "execution_count": 220,
     "metadata": {},
     "output_type": "execute_result"
    }
   ],
   "source": [
    "last_10"
   ]
  },
  {
   "cell_type": "code",
   "execution_count": 221,
   "metadata": {},
   "outputs": [
    {
     "data": {
      "text/plain": [
       "<AxesSubplot:ylabel='LMO_Detailed_Industry'>"
      ]
     },
     "execution_count": 221,
     "metadata": {},
     "output_type": "execute_result"
    },
    {
     "data": {
      "image/png": "[encoded data removed]",
      "text/plain": [
       "<Figure size 432x288 with 1 Axes>"
      ]
     },
     "metadata": {},
     "output_type": "display_data"
    }
   ],
   "source": [
    "# Plotting employment wise top 10 Industries.\n",
    "last_10.plot(kind=\"barh\", color=[\"red\", \"blue\", \"green\"])"
   ]
  },
  {
   "cell_type": "code",
   "execution_count": 222,
   "metadata": {},
   "outputs": [
    {
     "data": {
      "text/plain": [
       "<AxesSubplot:ylabel='Employment'>"
      ]
     },
     "execution_count": 222,
     "metadata": {},
     "output_type": "execute_result"
    },
    {
     "data": {
      "image/png": "[encoded data removed]",
      "text/plain": [
       "<Figure size 576x576 with 1 Axes>"
      ]
     },
     "metadata": {},
     "output_type": "display_data"
    }
   ],
   "source": [
    "last_10.plot.pie(figsize=(8, 8))"
   ]
  },
  {
   "cell_type": "markdown",
   "metadata": {},
   "source": [
    "As we can see from the graphs, Transportation equipment manufacturing (excluding shipbuilding) and Private and trades education are the sectors with lowest numbers of Employees currently and investigate their evolution with 217000\n",
    "and 231250.0 representatively."
   ]
  },
  {
   "cell_type": "markdown",
   "metadata": {},
   "source": [
    "### 4- How has the employment in the Construction industries evolved overtime?\n",
    "\n"
   ]
  },
  {
   "cell_type": "markdown",
   "metadata": {},
   "source": [
    "plot time series data of the employment in Industry evolved overtime."
   ]
  },
  {
   "cell_type": "code",
   "execution_count": 228,
   "metadata": {},
   "outputs": [],
   "source": [
    "#construction over yearsconstruction_\n",
    "construction_df= output_df[output_df[\"LMO_Detailed_Industry\"] == \"Construction\"]\n",
    "construction_year= pd.DataFrame(construction_df.groupby('SYEAR')['Employment'].mean())"
   ]
  },
  {
   "cell_type": "code",
   "execution_count": 243,
   "metadata": {},
   "outputs": [
    {
     "data": {
      "text/html": [
       "<div>\n",
       "<style scoped>\n",
       "    .dataframe tbody tr th:only-of-type {\n",
       "        vertical-align: middle;\n",
       "    }\n",
       "\n",
       "    .dataframe tbody tr th {\n",
       "        vertical-align: top;\n",
       "    }\n",
       "\n",
       "    .dataframe thead th {\n",
       "        text-align: right;\n",
       "    }\n",
       "</style>\n",
       "<table border=\"1\" class=\"dataframe\">\n",
       "  <thead>\n",
       "    <tr style=\"text-align: right;\">\n",
       "      <th></th>\n",
       "      <th>SYEAR</th>\n",
       "      <th>SMTH</th>\n",
       "      <th>LMO_Detailed_Industry</th>\n",
       "      <th>CODE</th>\n",
       "      <th>Employment</th>\n",
       "    </tr>\n",
       "  </thead>\n",
       "  <tbody>\n",
       "    <tr>\n",
       "      <th>12</th>\n",
       "      <td>1997</td>\n",
       "      <td>1</td>\n",
       "      <td>Construction</td>\n",
       "      <td>23</td>\n",
       "      <td>118000.0</td>\n",
       "    </tr>\n",
       "    <tr>\n",
       "      <th>120</th>\n",
       "      <td>1997</td>\n",
       "      <td>2</td>\n",
       "      <td>Construction</td>\n",
       "      <td>23</td>\n",
       "      <td>120000.0</td>\n",
       "    </tr>\n",
       "    <tr>\n",
       "      <th>227</th>\n",
       "      <td>1997</td>\n",
       "      <td>3</td>\n",
       "      <td>Construction</td>\n",
       "      <td>23</td>\n",
       "      <td>116750.0</td>\n",
       "    </tr>\n",
       "    <tr>\n",
       "      <th>335</th>\n",
       "      <td>1997</td>\n",
       "      <td>4</td>\n",
       "      <td>Construction</td>\n",
       "      <td>23</td>\n",
       "      <td>125500.0</td>\n",
       "    </tr>\n",
       "    <tr>\n",
       "      <th>443</th>\n",
       "      <td>1997</td>\n",
       "      <td>5</td>\n",
       "      <td>Construction</td>\n",
       "      <td>23</td>\n",
       "      <td>123750.0</td>\n",
       "    </tr>\n",
       "    <tr>\n",
       "      <th>...</th>\n",
       "      <td>...</td>\n",
       "      <td>...</td>\n",
       "      <td>...</td>\n",
       "      <td>...</td>\n",
       "      <td>...</td>\n",
       "    </tr>\n",
       "    <tr>\n",
       "      <th>27740</th>\n",
       "      <td>2018</td>\n",
       "      <td>8</td>\n",
       "      <td>Construction</td>\n",
       "      <td>23</td>\n",
       "      <td>290250.0</td>\n",
       "    </tr>\n",
       "    <tr>\n",
       "      <th>27847</th>\n",
       "      <td>2018</td>\n",
       "      <td>9</td>\n",
       "      <td>Construction</td>\n",
       "      <td>23</td>\n",
       "      <td>141250.0</td>\n",
       "    </tr>\n",
       "    <tr>\n",
       "      <th>27954</th>\n",
       "      <td>2018</td>\n",
       "      <td>10</td>\n",
       "      <td>Construction</td>\n",
       "      <td>23</td>\n",
       "      <td>14250.0</td>\n",
       "    </tr>\n",
       "    <tr>\n",
       "      <th>28061</th>\n",
       "      <td>2018</td>\n",
       "      <td>11</td>\n",
       "      <td>Construction</td>\n",
       "      <td>23</td>\n",
       "      <td>86500.0</td>\n",
       "    </tr>\n",
       "    <tr>\n",
       "      <th>28168</th>\n",
       "      <td>2018</td>\n",
       "      <td>12</td>\n",
       "      <td>Construction</td>\n",
       "      <td>23</td>\n",
       "      <td>NaN</td>\n",
       "    </tr>\n",
       "  </tbody>\n",
       "</table>\n",
       "<p>264 rows × 5 columns</p>\n",
       "</div>"
      ],
      "text/plain": [
       "       SYEAR  SMTH LMO_Detailed_Industry CODE  Employment\n",
       "12      1997     1          Construction   23    118000.0\n",
       "120     1997     2          Construction   23    120000.0\n",
       "227     1997     3          Construction   23    116750.0\n",
       "335     1997     4          Construction   23    125500.0\n",
       "443     1997     5          Construction   23    123750.0\n",
       "...      ...   ...                   ...  ...         ...\n",
       "27740   2018     8          Construction   23    290250.0\n",
       "27847   2018     9          Construction   23    141250.0\n",
       "27954   2018    10          Construction   23     14250.0\n",
       "28061   2018    11          Construction   23     86500.0\n",
       "28168   2018    12          Construction   23         NaN\n",
       "\n",
       "[264 rows x 5 columns]"
      ]
     },
     "execution_count": 243,
     "metadata": {},
     "output_type": "execute_result"
    }
   ],
   "source": [
    "construction_df"
   ]
  },
  {
   "cell_type": "code",
   "execution_count": 229,
   "metadata": {},
   "outputs": [
    {
     "data": {
      "image/png": "[encoded data removed]",
      "text/plain": [
       "<Figure size 720x360 with 1 Axes>"
      ]
     },
     "metadata": {},
     "output_type": "display_data"
    }
   ],
   "source": [
    "#scatterplot\n",
    "sns.set_style('darkgrid')\n",
    "plt.figure(figsize=(10,5))\n",
    "sns.scatterplot(x=construction_year.index, y='Employment',data=construction_year,size='Employment')\n",
    "plt.title('Variance of Employment in Construction Over Years')\n",
    "plt.xlabel('YEARS')\n",
    "plt.ylabel('Employment')\n",
    "plt.show()"
   ]
  },
  {
   "cell_type": "markdown",
   "metadata": {},
   "source": [
    "We can see that employment in constuction kept evolving across the years. <br>\n",
    "We can see that there was a peak just befor 2010, we can assume that it was between 2007-2009 which means that even throughout the 2008 economic crisis the construction industry kept evolving and even had a bigger evolution, \n",
    "so the construction was the industry people turned to after losing their jobs or while not having any during the crisis."
   ]
  },
  {
   "cell_type": "markdown",
   "metadata": {},
   "source": [
    "## 5- Comparing employment in Construction with employment across all industries"
   ]
  },
  {
   "cell_type": "code",
   "execution_count": 246,
   "metadata": {
    "collapsed": true
   },
   "outputs": [
    {
     "data": {
      "text/html": [
       "<div>\n",
       "<style scoped>\n",
       "    .dataframe tbody tr th:only-of-type {\n",
       "        vertical-align: middle;\n",
       "    }\n",
       "\n",
       "    .dataframe tbody tr th {\n",
       "        vertical-align: top;\n",
       "    }\n",
       "\n",
       "    .dataframe thead th {\n",
       "        text-align: right;\n",
       "    }\n",
       "</style>\n",
       "<table border=\"1\" class=\"dataframe\">\n",
       "  <thead>\n",
       "    <tr style=\"text-align: right;\">\n",
       "      <th></th>\n",
       "      <th>Employment</th>\n",
       "    </tr>\n",
       "    <tr>\n",
       "      <th>SYEAR</th>\n",
       "      <th></th>\n",
       "    </tr>\n",
       "  </thead>\n",
       "  <tbody>\n",
       "    <tr>\n",
       "      <th>1997</th>\n",
       "      <td>23590.333333</td>\n",
       "    </tr>\n",
       "    <tr>\n",
       "      <th>1998</th>\n",
       "      <td>22517.761394</td>\n",
       "    </tr>\n",
       "    <tr>\n",
       "      <th>1999</th>\n",
       "      <td>23113.515313</td>\n",
       "    </tr>\n",
       "    <tr>\n",
       "      <th>2000</th>\n",
       "      <td>25489.247312</td>\n",
       "    </tr>\n",
       "    <tr>\n",
       "      <th>2001</th>\n",
       "      <td>25376.008065</td>\n",
       "    </tr>\n",
       "    <tr>\n",
       "      <th>2002</th>\n",
       "      <td>25857.190860</td>\n",
       "    </tr>\n",
       "    <tr>\n",
       "      <th>2003</th>\n",
       "      <td>26307.459677</td>\n",
       "    </tr>\n",
       "    <tr>\n",
       "      <th>2004</th>\n",
       "      <td>26429.099462</td>\n",
       "    </tr>\n",
       "    <tr>\n",
       "      <th>2005</th>\n",
       "      <td>27276.209677</td>\n",
       "    </tr>\n",
       "    <tr>\n",
       "      <th>2006</th>\n",
       "      <td>28215.053763</td>\n",
       "    </tr>\n",
       "    <tr>\n",
       "      <th>2007</th>\n",
       "      <td>28968.750000</td>\n",
       "    </tr>\n",
       "    <tr>\n",
       "      <th>2008</th>\n",
       "      <td>29648.521505</td>\n",
       "    </tr>\n",
       "    <tr>\n",
       "      <th>2009</th>\n",
       "      <td>29154.569892</td>\n",
       "    </tr>\n",
       "    <tr>\n",
       "      <th>2010</th>\n",
       "      <td>29777.553763</td>\n",
       "    </tr>\n",
       "    <tr>\n",
       "      <th>2011</th>\n",
       "      <td>30001.680108</td>\n",
       "    </tr>\n",
       "    <tr>\n",
       "      <th>2012</th>\n",
       "      <td>30415.658602</td>\n",
       "    </tr>\n",
       "    <tr>\n",
       "      <th>2013</th>\n",
       "      <td>30522.177419</td>\n",
       "    </tr>\n",
       "    <tr>\n",
       "      <th>2014</th>\n",
       "      <td>30596.438172</td>\n",
       "    </tr>\n",
       "    <tr>\n",
       "      <th>2015</th>\n",
       "      <td>31064.516129</td>\n",
       "    </tr>\n",
       "    <tr>\n",
       "      <th>2016</th>\n",
       "      <td>30981.557377</td>\n",
       "    </tr>\n",
       "    <tr>\n",
       "      <th>2017</th>\n",
       "      <td>33084.918478</td>\n",
       "    </tr>\n",
       "    <tr>\n",
       "      <th>2018</th>\n",
       "      <td>33780.826558</td>\n",
       "    </tr>\n",
       "  </tbody>\n",
       "</table>\n",
       "</div>"
      ],
      "text/plain": [
       "         Employment\n",
       "SYEAR              \n",
       "1997   23590.333333\n",
       "1998   22517.761394\n",
       "1999   23113.515313\n",
       "2000   25489.247312\n",
       "2001   25376.008065\n",
       "2002   25857.190860\n",
       "2003   26307.459677\n",
       "2004   26429.099462\n",
       "2005   27276.209677\n",
       "2006   28215.053763\n",
       "2007   28968.750000\n",
       "2008   29648.521505\n",
       "2009   29154.569892\n",
       "2010   29777.553763\n",
       "2011   30001.680108\n",
       "2012   30415.658602\n",
       "2013   30522.177419\n",
       "2014   30596.438172\n",
       "2015   31064.516129\n",
       "2016   30981.557377\n",
       "2017   33084.918478\n",
       "2018   33780.826558"
      ]
     },
     "execution_count": 246,
     "metadata": {},
     "output_type": "execute_result"
    }
   ],
   "source": [
    "total_employment_summary= pd.DataFrame(output_df.groupby('SYEAR')['Employment'].mean())\n",
    "total_employment_summary"
   ]
  },
  {
   "cell_type": "code",
   "execution_count": 261,
   "metadata": {
    "scrolled": true
   },
   "outputs": [
    {
     "data": {
      "image/png": "[encoded data removed]",
      "text/plain": [
       "<Figure size 720x360 with 1 Axes>"
      ]
     },
     "metadata": {},
     "output_type": "display_data"
    }
   ],
   "source": [
    "#scatterplot\n",
    "sns.set_style('darkgrid')\n",
    "plt.figure(figsize=(10,5))\n",
    "sns.scatterplot(x=construction_year.index, y='Employment',data=construction_year,size='Employment',label=\"Construction\")\n",
    "sns.scatterplot(x=total_employment_summary.index, y=\"Employment\", data=total_employment_summary, size='Employment', label=\"total_employment\")\n",
    "plt.title('Variance of Employment in Construction Over Years comparing to all industries')\n",
    "plt.xlabel('YEARS')\n",
    "plt.ylabel('Employment')\n",
    "plt.show()"
   ]
  },
  {
   "cell_type": "markdown",
   "metadata": {},
   "source": [
    "The rate of employment is so low comparing to construction or the rest of the industries. <br>\n",
    "The focus should turn into the industries with the less contribution in the employment, see what problems are affecting the sectors and try to provide solutions to what is possibly holding them from evolving."
   ]
  },
  {
   "cell_type": "code",
   "execution_count": null,
   "metadata": {},
   "outputs": [],
   "source": []
  },
  {
   "cell_type": "markdown",
   "metadata": {},
   "source": [
    "## Thank you"
   ]
  }
 ],
 "metadata": {
  "kernelspec": {
   "display_name": "Python 3",
   "language": "python",
   "name": "python3"
  },
  "language_info": {
   "codemirror_mode": {
    "name": "ipython",
    "version": 3
   },
   "file_extension": ".py",
   "mimetype": "text/x-python",
   "name": "python",
   "nbconvert_exporter": "python",
   "pygments_lexer": "ipython3",
   "version": "3.8.5"
  }
 },
 "nbformat": 4,
 "nbformat_minor": 4
}
